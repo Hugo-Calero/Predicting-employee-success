{
 "cells": [
  {
   "cell_type": "markdown",
   "id": "74d09bb1",
   "metadata": {
    "id": "74d09bb1"
   },
   "source": [
    "<div class=\"alert alert-block alert-danger\">\n",
    "    \n",
    "# Initial Processing\n",
    "</div>"
   ]
  },
  {
   "cell_type": "code",
   "execution_count": null,
   "id": "cdc88d47",
   "metadata": {
    "ExecuteTime": {
     "end_time": "2023-03-20T16:16:51.086199Z",
     "start_time": "2023-03-20T16:16:40.976900Z"
    },
    "id": "cdc88d47"
   },
   "outputs": [],
   "source": [
    "## Import the libraries\n",
    "import pandas as pd\n",
    "import numpy as np\n",
    "from sklearn.metrics import cohen_kappa_score, make_scorer,confusion_matrix, matthews_corrcoef, f1_score, ConfusionMatrixDisplay\n",
    "#import stats\n",
    "import re\n",
    "import scipy\n",
    "import matplotlib.pyplot as plt\n",
    "import seaborn as sns\n",
    "from scipy import stats\n",
    "from itertools import chain\n",
    "import collections\n",
    "from sklearn.model_selection import train_test_split, GridSearchCV, KFold\n",
    "from sklearn.metrics import mean_absolute_error, make_scorer\n",
    "from sklearn.neighbors import KNeighborsRegressor\n",
    "from sklearn.ensemble import RandomForestRegressor\n",
    "from sklearn.tree import DecisionTreeRegressor\n",
    "from sklearn.linear_model import Ridge, ElasticNet, LinearRegression\n",
    "from sklearn.svm import SVR\n",
    "from pathlib import Path\n",
    "import datetime\n",
    "import random as python_random\n",
    "from sklearn.preprocessing import StandardScaler, MinMaxScaler\n",
    "import xgboost\n",
    "from sklearn.impute import KNNImputer\n",
    "from sklearn.metrics import mean_squared_error, mean_absolute_error, r2_score\n",
    "from ctgan import CTGAN\n",
    "from PyALE import ale\n",
    "import shap\n",
    "from sklearn.model_selection import StratifiedKFold\n",
    "from sdmetrics.reports.single_table import QualityReport\n",
    "from sklearn.svm import SVC\n",
    "from sklearn.neighbors import KNeighborsClassifier\n",
    "from sklearn.linear_model import LogisticRegression\n",
    "from sklearn.neural_network import MLPClassifier\n",
    "from sklearn.ensemble import RandomForestClassifier\n",
    "from sklearn.tree import DecisionTreeClassifier\n",
    "from sklearn.metrics import accuracy_score\n",
    "from sklearn.metrics import roc_auc_score,roc_curve\n",
    "from sklearn.metrics import precision_score, recall_score,f1_score\n",
    "from sklearn.metrics import calinski_harabasz_score\n",
    "from sklearn.metrics import silhouette_score\n",
    "import matplotlib.image as pltimg\n",
    "import itertools\n",
    "from sklearn.metrics import davies_bouldin_score\n",
    "from itertools import combinations\n",
    "#from validclust import ValidClust\n",
    "from sklearn.cluster import KMeans\n",
    "#import winsound"
   ]
  },
  {
   "cell_type": "markdown",
   "id": "7e0be1fe",
   "metadata": {
    "id": "7e0be1fe"
   },
   "source": [
    "\n",
    "<div class=\"alert alert-block alert-warning\">\n",
    "    \n",
    "## Extract data from Employment History\n",
    "</div>"
   ]
  },
  {
   "cell_type": "code",
   "execution_count": null,
   "id": "62c7cc44",
   "metadata": {
    "ExecuteTime": {
     "end_time": "2023-03-16T16:33:42.897026Z",
     "start_time": "2023-03-16T16:33:11.416390Z"
    },
    "id": "62c7cc44"
   },
   "outputs": [],
   "source": [
    "## Extract the data from csv file (Employment History file)\n",
    "df2 = pd.read_csv('../data/raw/EmploymentHistorycsv.csv', engine = 'python', encoding = 'latin1')"
   ]
  },
  {
   "cell_type": "code",
   "execution_count": null,
   "id": "44d34b36",
   "metadata": {
    "ExecuteTime": {
     "end_time": "2023-03-14T15:43:32.885542Z",
     "start_time": "2023-03-14T15:43:32.870007Z"
    },
    "id": "44d34b36"
   },
   "outputs": [],
   "source": [
    "## Specify the key words to extract rows according to that\n",
    "relevant_words = ['nurse', 'nurs', 'care', 'health', 'hosp', 'hospital', 'nursing', 'med', 'medical', 'infirmary', 'nhs', \n",
    "                  'midwife', 'midwifery', 'hiv', 'residence', 'residential', 'elder', 'patient','diabetes mellitus',\n",
    "                 'gastroenteritis', 'disease', 'cardio', 'heart', 'red cross']"
   ]
  },
  {
   "cell_type": "code",
   "execution_count": null,
   "id": "2c944bbf",
   "metadata": {
    "ExecuteTime": {
     "end_time": "2023-03-14T15:43:39.570151Z",
     "start_time": "2023-03-14T15:43:38.853058Z"
    },
    "id": "2c944bbf"
   },
   "outputs": [],
   "source": [
    "## Convert the values in department column to lower case\n",
    "df2['department'] = df2['department'].str.lower()\n",
    "\n",
    "## Fill the null values with random word\n",
    "df2['department'] = df2['department'].fillna('culo')\n",
    "df2['responsibilities'] = df2['responsibilities'].fillna('culo')\n",
    "df2['position'] = df2['position'].fillna('culo')"
   ]
  },
  {
   "cell_type": "code",
   "execution_count": null,
   "id": "f8863870",
   "metadata": {
    "ExecuteTime": {
     "end_time": "2023-03-14T15:45:20.105247Z",
     "start_time": "2023-03-14T15:44:47.477889Z"
    },
    "id": "f8863870"
   },
   "outputs": [],
   "source": [
    "## Change the data type of department, position and responsibilities to string\n",
    "df2['department'] = df2['department'].astype('str') \n",
    "df2['position'] = df2['position'].astype('str')\n",
    "df2['responsibilities'] = df2['responsibilities'].astype('str')\n",
    "\n",
    "## Concatenate the position, department and responsibilities and loading the value in history column\n",
    "df2['history'] = df2[['position', 'department', 'responsibilities']].agg(' '.join, axis=1)\n",
    "\n",
    "## Group the details in the dataframe by 'candidateid'\n",
    "dfex = df2.groupby('candidateid',as_index= False).agg(' '.join)"
   ]
  },
  {
   "cell_type": "code",
   "execution_count": null,
   "id": "a97eb6da",
   "metadata": {
    "ExecuteTime": {
     "end_time": "2023-03-14T15:45:21.180782Z",
     "start_time": "2023-03-14T15:45:21.159212Z"
    },
    "code_folding": [
     0
    ],
    "id": "a97eb6da"
   },
   "outputs": [],
   "source": [
    "## Function to check if the candidate has health related experience\n",
    "def check_exp(df2, col1):\n",
    "    lista1 = []\n",
    "    for i in df2[col1].to_list():\n",
    "        if any(word in i for word in relevant_words):\n",
    "            lista1.append(1)\n",
    "        else:\n",
    "            lista1.append(0)\n",
    "        \n",
    "    return lista1"
   ]
  },
  {
   "cell_type": "code",
   "execution_count": null,
   "id": "9c840fa1",
   "metadata": {
    "ExecuteTime": {
     "end_time": "2023-03-14T15:45:24.469139Z",
     "start_time": "2023-03-14T15:45:22.258885Z"
    },
    "id": "9c840fa1"
   },
   "outputs": [],
   "source": [
    "## To take the details of those candidates that has worked in healthcare field\n",
    "checked = check_exp(dfex, 'history')\n",
    "dfex['health_exp'] = checked\n",
    "df_to_export = dfex[['candidateid', 'health_exp']]"
   ]
  },
  {
   "cell_type": "code",
   "execution_count": null,
   "id": "256d886a",
   "metadata": {
    "ExecuteTime": {
     "end_time": "2023-03-14T15:47:30.525997Z",
     "start_time": "2023-03-14T15:47:17.986774Z"
    },
    "id": "256d886a"
   },
   "outputs": [],
   "source": [
    "## Export the result generated to excel file\n",
    "df_to_export.to_excel('../data/processed/healthcare_experiences.xlsx')"
   ]
  },
  {
   "cell_type": "markdown",
   "id": "0d9f1820",
   "metadata": {
    "ExecuteTime": {
     "end_time": "2023-03-14T14:08:21.194940Z",
     "start_time": "2023-03-14T14:08:21.144843Z"
    },
    "id": "0d9f1820"
   },
   "source": [
    "\n",
    "\n",
    "<div class=\"alert alert-block alert-warning\">\n",
    "    \n",
    "## Select relevant features\n",
    "</div>"
   ]
  },
  {
   "cell_type": "code",
   "execution_count": null,
   "id": "e26b834d",
   "metadata": {
    "ExecuteTime": {
     "end_time": "2023-03-16T13:41:43.812469Z",
     "start_time": "2023-03-16T13:41:43.609249Z"
    },
    "id": "e26b834d"
   },
   "outputs": [],
   "source": [
    "## Load data from the CandidateApplicationsData file and healthcare_experiences file\n",
    "dfexp = pd.read_excel('../data/processed/healthcare_experiences.xlsx')\n",
    "dfcad = pd.read_csv('../data/raw//CandidateApplicationsDatacsv.csv', engine = 'python', encoding = 'latin1')"
   ]
  },
  {
   "cell_type": "code",
   "execution_count": null,
   "id": "28f631db",
   "metadata": {
    "ExecuteTime": {
     "end_time": "2023-03-15T12:01:36.456953Z",
     "start_time": "2023-03-15T12:01:36.441454Z"
    },
    "id": "28f631db"
   },
   "outputs": [],
   "source": [
    "## Retrieve the column names from CandidateApplicationsData file\n",
    "col_names = dfcad.loc[[1]].values.flatten().tolist()\n",
    "dfcad = dfcad.iloc[2:]\n",
    "dfcad.columns = col_names"
   ]
  },
  {
   "cell_type": "code",
   "execution_count": null,
   "id": "5a5adde8",
   "metadata": {
    "ExecuteTime": {
     "end_time": "2023-03-15T12:01:52.839862Z",
     "start_time": "2023-03-15T12:01:52.827333Z"
    },
    "id": "5a5adde8"
   },
   "outputs": [],
   "source": [
    "## Rename the 'candidate id' column to 'candidateid'\n",
    "dfcad.rename(columns = {'candidate id':'candidateid'}, inplace = True)"
   ]
  },
  {
   "cell_type": "code",
   "execution_count": null,
   "id": "b4df8d51",
   "metadata": {
    "ExecuteTime": {
     "end_time": "2023-03-15T12:02:08.162811Z",
     "start_time": "2023-03-15T12:02:08.004484Z"
    },
    "code_folding": [],
    "id": "b4df8d51"
   },
   "outputs": [],
   "source": [
    "## Merge the csv files based on 'candidateid'\n",
    "dfcad.candidateid = dfcad.candidateid.astype('int64')\n",
    "df_merge = pd.merge(dfexp, dfcad, on='candidateid')\n",
    "df = df_merge"
   ]
  },
  {
   "cell_type": "code",
   "execution_count": null,
   "id": "11548647",
   "metadata": {
    "ExecuteTime": {
     "end_time": "2023-03-15T12:02:16.005838Z",
     "start_time": "2023-03-15T12:02:15.985380Z"
    },
    "code_folding": [
     0
    ],
    "id": "11548647"
   },
   "outputs": [],
   "source": [
    "## The list of columns that are to be considered for analysis and modelling\n",
    "lista = ['candidateid', 'Contracted hours',\n",
    "         'length of service in months','Current Employee [1=YES / 0=No]','Applied Through (Channel Type)',\n",
    "         'Applied Through (Channel)', 'Job Title', 'Advertised Salary', ' Distance Candidate is from Job location (KM) ',\n",
    "        'Certification', 'All','All', 'Accounts Skills',  'Admin Skills', 'Care Assistant', 'Chef Skills', 'FlexForce', \n",
    "         'General Skills', 'Health and Social Care ', 'Home Manager Skills', 'Kitchen & Domestic Skills', 'Maintenance Skills', \n",
    "         'Nurse Skills', 'Qualifications', 'Specialist Area', 'Team Leader Skills', 'Total Skills on CV','Socail Demographic Code',\n",
    "        'Count of Care homes within 15 min drive', 'Count of Care home Beds  within 15 min drive', 'Average age of the care homes within 15 min drive', \n",
    "         'Count of Care Homes within walking distance (<500 meters) from candidates address',\n",
    "         'Sum of care home beds within walking distance from candidates address', 'Count of bus stops walking distance from candidates address ',\n",
    "        '1. Owned','1. Owned','3. Private rented','4. Living rent free','Employee: full-time', 'Employee: part-time',\n",
    "         'Self-employed', 'Unemployed (economically active)', 'Full-time student (economically active)','Total economically active',\n",
    "        'Total economically inactive','No car or van in household','Total cars or vans','Total Population', 'Males',\n",
    "         'Females', 'Residents in households', 'Residents in communal establishments', 'Schoolchildren or full-time students aged 4+ at their non term-time address',\n",
    "        'All people aged 16+','Single (never married or registered a same-sex civil partnership)',\n",
    "         'Married', 'In a registered same-sex civil partnership', 'Separated (but still legally married or in a same-sex civil partnership)', 'health_exp',\n",
    "         'Divorced (or formerly in a same-sex civil partnership which is now legally dissolved)', 'Widowed (or surviving partner from a same-sex civil partnership)']\n",
    "\n",
    "listadef = list(set(lista))"
   ]
  },
  {
   "cell_type": "code",
   "execution_count": null,
   "id": "c69d7205",
   "metadata": {
    "ExecuteTime": {
     "end_time": "2023-03-15T12:02:16.672918Z",
     "start_time": "2023-03-15T12:02:16.652731Z"
    },
    "code_folding": [],
    "id": "c69d7205"
   },
   "outputs": [],
   "source": [
    "## Select relevant features\n",
    "df = df[listadef]"
   ]
  },
  {
   "cell_type": "code",
   "execution_count": null,
   "id": "2e5b33a7",
   "metadata": {
    "ExecuteTime": {
     "end_time": "2023-03-15T12:02:21.956496Z",
     "start_time": "2023-03-15T12:02:20.412398Z"
    },
    "code_folding": [],
    "id": "2e5b33a7"
   },
   "outputs": [],
   "source": [
    "## Eliminate repeated columns\n",
    "df = df.loc[:,~df.apply(lambda x: x.duplicated(),axis=1).all()].copy()"
   ]
  },
  {
   "cell_type": "code",
   "execution_count": null,
   "id": "ae48b75d",
   "metadata": {
    "ExecuteTime": {
     "end_time": "2023-03-15T12:02:56.578904Z",
     "start_time": "2023-03-15T12:02:40.678364Z"
    },
    "id": "ae48b75d"
   },
   "outputs": [],
   "source": [
    "## To load the data to file\n",
    "df.to_excel('../data/processed/finalfinal.xlsx')"
   ]
  },
  {
   "cell_type": "markdown",
   "id": "23b806e1",
   "metadata": {
    "id": "23b806e1"
   },
   "source": [
    "<div class=\"alert alert-block alert-danger\">\n",
    "    \n",
    "# Data Cleaning\n",
    "</div>"
   ]
  },
  {
   "cell_type": "markdown",
   "id": "8ea90eea",
   "metadata": {
    "id": "8ea90eea"
   },
   "source": [
    "\n",
    "\n",
    "<div class=\"alert alert-block alert-warning\">\n",
    "    \n",
    "## Deal with duplicates\n",
    "</div>"
   ]
  },
  {
   "cell_type": "code",
   "execution_count": null,
   "id": "473594e0",
   "metadata": {
    "ExecuteTime": {
     "end_time": "2023-03-15T15:46:48.773316Z",
     "start_time": "2023-03-15T15:46:25.779893Z"
    },
    "id": "473594e0"
   },
   "outputs": [],
   "source": [
    "## To read data from excel file\n",
    "df = pd.read_excel('../data/processed/finalfinal.xlsx')"
   ]
  },
  {
   "cell_type": "code",
   "execution_count": null,
   "id": "f056d064",
   "metadata": {
    "ExecuteTime": {
     "end_time": "2023-03-15T15:46:49.342267Z",
     "start_time": "2023-03-15T15:46:49.325870Z"
    },
    "code_folding": [],
    "id": "f056d064"
   },
   "outputs": [],
   "source": [
    "## To find the number of entries for a particular candidate\n",
    "values = df['candidateid'].value_counts(dropna=False).keys().tolist()\n",
    "counts = df['candidateid'].value_counts(dropna=False).tolist()\n",
    "value_dict = dict(zip(values, counts))"
   ]
  },
  {
   "cell_type": "code",
   "execution_count": null,
   "id": "df93624d",
   "metadata": {
    "ExecuteTime": {
     "end_time": "2023-03-15T15:47:03.565248Z",
     "start_time": "2023-03-15T15:47:03.516343Z"
    },
    "id": "df93624d"
   },
   "outputs": [],
   "source": [
    "## Dropping the duplicate rows from the dataframe, only keeping the last row for the duplicate values \n",
    "df = df.drop_duplicates(subset=['candidateid'], keep='last')"
   ]
  },
  {
   "cell_type": "code",
   "execution_count": null,
   "id": "b3e87bff",
   "metadata": {
    "ExecuteTime": {
     "end_time": "2023-03-15T15:48:19.606274Z",
     "start_time": "2023-03-15T15:47:45.722622Z"
    },
    "id": "b3e87bff"
   },
   "outputs": [],
   "source": [
    "## Writing the dataframe content to excel file\n",
    "df.to_excel('../data/processed/final_nodup.xlsx')"
   ]
  },
  {
   "cell_type": "code",
   "execution_count": null,
   "id": "6ebde0c9",
   "metadata": {
    "ExecuteTime": {
     "end_time": "2023-03-15T15:11:17.371453Z",
     "start_time": "2023-03-15T15:11:17.340018Z"
    },
    "id": "6ebde0c9"
   },
   "outputs": [],
   "source": [
    "## To get the candidate entries that are greater than 1\n",
    "new_data = {k: v for k, v in value_dict.items() if v > 1}"
   ]
  },
  {
   "cell_type": "markdown",
   "id": "c0be2d39",
   "metadata": {
    "id": "c0be2d39"
   },
   "source": [
    "\n",
    "\n",
    "<div class=\"alert alert-block alert-warning\">\n",
    "    \n",
    "## Missing values\n",
    "</div>"
   ]
  },
  {
   "cell_type": "code",
   "execution_count": null,
   "id": "a53394be",
   "metadata": {
    "ExecuteTime": {
     "end_time": "2023-03-16T15:13:51.258396Z",
     "start_time": "2023-03-16T15:13:42.643794Z"
    },
    "id": "a53394be"
   },
   "outputs": [],
   "source": [
    "## To read the excel file\n",
    "dff = pd.read_excel('../data/processed/final_nodup.xlsx')"
   ]
  },
  {
   "cell_type": "code",
   "execution_count": null,
   "id": "2d36cea1",
   "metadata": {
    "ExecuteTime": {
     "end_time": "2023-03-16T15:13:52.109880Z",
     "start_time": "2023-03-16T15:13:52.078191Z"
    },
    "code_folding": [
     0
    ],
    "id": "2d36cea1"
   },
   "outputs": [],
   "source": [
    "## Columns to remove from the dataframe\n",
    "cols_to_remove = ['In a registered same-sex civil partnership','Residents in communal establishments','Chef Skills',\n",
    "                 'Care Assistant', 'Team Leader Skills', 'Maintenance Skills', 'Qualifications','Accounts Skills',\n",
    "                  'Applied Through (Channel)', 'Applied Through (Channel Type)']\n",
    "\n",
    "dff.drop(cols_to_remove, axis = 1, inplace = True)\n",
    "# dff.drop(['Unnamed: 0.1', 'Unnamed: 0_x', 'Unnamed: 0_y'], axis = 1, inplace = True)\n",
    "# dff.drop(['bonus'], axis = 1, inplace = True)"
   ]
  },
  {
   "cell_type": "code",
   "execution_count": null,
   "id": "91af79c9",
   "metadata": {
    "ExecuteTime": {
     "end_time": "2023-03-16T15:10:15.650319Z",
     "start_time": "2023-03-16T15:10:15.625491Z"
    },
    "id": "91af79c9"
   },
   "outputs": [],
   "source": [
    "## Finding the percentage of values that are null in the dataframe\n",
    "percent_missing = dff.isna().sum() * 100 / len(dff)\n",
    "missing_value_df = pd.DataFrame({'percent_missing': percent_missing})"
   ]
  },
  {
   "cell_type": "code",
   "execution_count": null,
   "id": "d09ced6c",
   "metadata": {
    "ExecuteTime": {
     "end_time": "2023-03-16T15:10:44.953966Z",
     "start_time": "2023-03-16T15:10:44.923380Z"
    },
    "id": "d09ced6c"
   },
   "outputs": [],
   "source": [
    "missing_value_df[missing_value_df['percent_missing']>5]"
   ]
  },
  {
   "cell_type": "code",
   "execution_count": null,
   "id": "76156a3f",
   "metadata": {
    "ExecuteTime": {
     "end_time": "2023-03-16T15:13:58.651357Z",
     "start_time": "2023-03-16T15:13:58.616348Z"
    },
    "id": "76156a3f"
   },
   "outputs": [],
   "source": [
    "## Dropping the null values\n",
    "df_nomis = dff.dropna()"
   ]
  },
  {
   "cell_type": "markdown",
   "id": "a56e049f",
   "metadata": {
    "id": "a56e049f"
   },
   "source": [
    "\n",
    "\n",
    "<div class=\"alert alert-block alert-warning\">\n",
    "    \n",
    "## Cleaning salary\n",
    "</div>"
   ]
  },
  {
   "cell_type": "code",
   "execution_count": null,
   "id": "33v-G9MeBeYM",
   "metadata": {
    "id": "33v-G9MeBeYM"
   },
   "outputs": [],
   "source": [
    "## Accessing the dataset\n",
    "emp_data = pd.read_excel('../data/processed/final_nodup.xlsx')"
   ]
  },
  {
   "cell_type": "code",
   "execution_count": null,
   "id": "cdce1f73",
   "metadata": {
    "scrolled": true
   },
   "outputs": [],
   "source": [
    "#Preprocessing the salary column\n",
    "\n",
    "#Function to calculate per hour salary\n",
    "def calculate_average(range_str,contracted_hr):\n",
    "    range_str = str(range_str).rstrip(\".\")\n",
    "\n",
    "    \n",
    "    if range_str.startswith(\"-\") or range_str.endswith(\"-\"):\n",
    "      range_str = range_str.strip(\"-\")    \n",
    "    if (\"-\" in range_str):\n",
    "      \n",
    "      start,end = range_str.split(\"-\")\n",
    "      if (float(start)<=20 and float(end)>=1000):\n",
    "        range_str = float(start)\n",
    "      else:\n",
    "        avg = (float(start)+float(end))/2\n",
    "        range_str = avg\n",
    "      \n",
    "    if (range_str!=''  and float(range_str)>20000):\n",
    "      if float(contracted_hr) !=0:\n",
    "        sal = float(range_str)/(float(contracted_hr)*52)\n",
    "        range_str = sal\n",
    "      else:\n",
    "        sal = float(range_str)/2080\n",
    "        range_str = sal\n",
    "    if (range_str==''):\n",
    "      range_str = 0\n",
    "    return float(range_str)\n",
    "   \n",
    "\n",
    "r = emp_data.loc[:,['candidateid','Advertised Salary','Contracted hours']]\n",
    "\n",
    "#Converting to lowercase\n",
    "r[\"Advertised Salary\"] = r[\"Advertised Salary\"].str.lower()\n",
    "\n",
    "#Removing space, to, upto, plus, comma\n",
    "r = r.replace({' 0 ': '-'}, regex=True)\n",
    "r = r.replace({' ': ''}, regex=True)\n",
    "r = r.replace({'upto': '','to£':'-£',',plus':',+','up':'','/hr':'',',£':'+£'}, regex=True)\n",
    "r = r.replace({'to': '-'}, regex=True)\n",
    "r = r.replace({',': '','plus':'+','--':'-'}, regex=True)\n",
    "\n",
    "#Remove characters after equivalent\n",
    "r[['Advertised Salary', 'equ']] = r['Advertised Salary'].str.split('equ', expand=True)\n",
    "r.drop('equ', axis=1, inplace=True)\n",
    "\n",
    "#Remove charaters after NMC registered\n",
    "r[['Advertised Salary', 'nmc']] = r['Advertised Salary'].str.split('nmcregistered', expand=True)\n",
    "r.drop('nmc', axis=1, inplace=True)\n",
    "\n",
    "#Remove charaters after pro rata\n",
    "r[['Advertised Salary', 'pro']] = r['Advertised Salary'].str.split('prorata', expand=True)\n",
    "r.drop('pro', axis=1, inplace=True)\n",
    "\n",
    "#Remove all the characters except +,digit,dot,-\n",
    "pattern = r\"[^+,\\-/.\\d]\" \n",
    "r[\"Advertised Salary\"] = r[\"Advertised Salary\"].apply(lambda x: re.sub(pattern, \"\", str(x)))\n",
    "\n",
    "#Separate the bonus and salary\n",
    "r[['Advertised Salary', 'bonus']] = r['Advertised Salary'].str.split('+', expand=True)\n",
    "\n",
    "#Replacing -- with -\n",
    "r = r.replace({'--':'-','/':'-'}, regex=True)\n",
    "\n",
    "#Calculate the per hour salary\n",
    "r[\"Advertised Salary\"] = r.apply(lambda row: calculate_average(row[\"Advertised Salary\"], row[\"Contracted hours\"]), axis=1)\n",
    "\n",
    "# calculate the median of the salary, ignoring zeros\n",
    "median = np.median(r.loc[r['Advertised Salary'] != 0, 'Advertised Salary'])\n",
    "\n",
    "# replace zeros with the median\n",
    "r.loc[r['Advertised Salary'] == 0, 'Advertised Salary'] = median\n",
    "\n",
    "r = r.drop(['Contracted hours'], axis=1)"
   ]
  },
  {
   "cell_type": "code",
   "execution_count": null,
   "id": "iFwC37roB8Dk",
   "metadata": {
    "id": "iFwC37roB8Dk"
   },
   "outputs": [],
   "source": [
    "## Writing the dataframe after preprocessing the salary column \n",
    "r.to_csv('../data/processed/salary_clean.csv', encoding='utf-8')"
   ]
  },
  {
   "cell_type": "markdown",
   "id": "4ffa59a2",
   "metadata": {
    "id": "4ffa59a2"
   },
   "source": [
    "\n",
    "<div class=\"alert alert-block alert-warning\">\n",
    "    \n",
    "## Outliers\n",
    "\n",
    "</div>"
   ]
  },
  {
   "cell_type": "code",
   "execution_count": null,
   "id": "fb6226bf",
   "metadata": {
    "ExecuteTime": {
     "end_time": "2023-03-16T15:15:14.180799Z",
     "start_time": "2023-03-16T15:15:14.105835Z"
    },
    "id": "fb6226bf"
   },
   "outputs": [],
   "source": [
    "#Rerun the below parts as the salary_clean.csv data was modified\n",
    "## Load the file with preprocessed advertised salary\n",
    "df2 = pd.read_csv('../data/processed/salary_clean.csv')\n",
    "\n",
    "## Dropping the 'Advertised Salary' from df_nomis, and merge the preprocessed 'Advertised Salary' to the dataframe df  \n",
    "df_nomis.drop('Advertised Salary', axis = 1, inplace = True)\n",
    "df = pd.merge(df_nomis, df2, on='candidateid')"
   ]
  },
  {
   "cell_type": "code",
   "execution_count": null,
   "id": "1676d69f",
   "metadata": {
    "ExecuteTime": {
     "end_time": "2023-03-16T15:15:18.601918Z",
     "start_time": "2023-03-16T15:15:18.557042Z"
    },
    "id": "1676d69f"
   },
   "outputs": [],
   "source": [
    "df = df[(df['Advertised Salary']<38) & (df['Total Population']<600)]"
   ]
  },
  {
   "cell_type": "code",
   "execution_count": null,
   "id": "3508bf99",
   "metadata": {
    "ExecuteTime": {
     "end_time": "2023-03-16T14:00:28.224059Z",
     "start_time": "2023-03-16T14:00:28.201537Z"
    },
    "id": "3508bf99"
   },
   "outputs": [],
   "source": [
    "## Sorting the data frame according to the salary value\n",
    "f = sorted(df['Advertised Salary'].to_list(), reverse = True)"
   ]
  },
  {
   "cell_type": "code",
   "execution_count": null,
   "id": "f6ac7db0",
   "metadata": {
    "ExecuteTime": {
     "end_time": "2023-03-16T15:15:26.742281Z",
     "start_time": "2023-03-16T15:15:26.731281Z"
    },
    "id": "f6ac7db0"
   },
   "outputs": [],
   "source": [
    "## Function to count the number of outliers in the dataframe\n",
    "def count_outlier_values_per_row(dfexample, t):\n",
    "    freq_remain = []\n",
    "    \n",
    "    for var in dfexample.columns:\n",
    "        Q1 = dfexample[var].quantile(0.25)\n",
    "        Q3 = dfexample[var].quantile(0.75)\n",
    "        IQR = Q3 - Q1\n",
    "        remain = dfexample.candidateid[(dfexample[var]>(Q1 - t * IQR)) & (dfexample[var]<(Q3 + t * IQR))].tolist() #get candidateids of rows that do not contain outliers in that variable\n",
    "        freq_remain.append(remain)\n",
    "\n",
    "    unzipped = list(chain.from_iterable(freq_remain))\n",
    "    counter = collections.Counter(unzipped) #count frequency of appearnce of each candidateid (same as number of columns for which that candidate is not an outlier)\n",
    "    dfexample[\"number_outliers\"] = df.apply(lambda row: counter[row.candidateid], axis=1) # create new feature with the generated dict\n",
    "    return dfexample"
   ]
  },
  {
   "cell_type": "code",
   "execution_count": null,
   "id": "b8094e80",
   "metadata": {
    "ExecuteTime": {
     "end_time": "2023-03-16T15:15:29.199024Z",
     "start_time": "2023-03-16T15:15:29.168009Z"
    },
    "id": "b8094e80"
   },
   "outputs": [],
   "source": [
    "## Removing the bonus column and unnamed column\n",
    "df.drop(['Unnamed: 0.1', 'Unnamed: 0_x', 'Unnamed: 0_y'], axis = 1, inplace = True)\n",
    "df.drop(['bonus'], axis = 1, inplace = True)"
   ]
  },
  {
   "cell_type": "code",
   "execution_count": null,
   "id": "e3be023e",
   "metadata": {
    "ExecuteTime": {
     "end_time": "2023-03-16T15:15:32.803451Z",
     "start_time": "2023-03-16T15:15:32.684860Z"
    },
    "id": "e3be023e"
   },
   "outputs": [],
   "source": [
    "## Columns that can have outliers\n",
    "cols_outliers = ['candidateid','Total economically inactive', 'Full-time student (economically active)','Single (never married or registered a same-sex civil partnership)',\n",
    "'Widowed (or surviving partner from a same-sex civil partnership)',\n",
    "'Separated (but still legally married or in a same-sex civil partnership)',\n",
    "'Count of bus stops walking distance from candidates address ','Contracted hours',\n",
    "'Schoolchildren or full-time students aged 4+ at their non term-time address','Unemployed (economically active)',\n",
    "'Sum of care home beds within walking distance from candidates address',\n",
    "'Count of Care Homes within walking distance (<500 meters) from candidates address','Self-employed','Employee: full-time']\n",
    "\n",
    "t=1.5\n",
    "for var in cols_outliers:\n",
    "    Q1 = df[var].quantile(0.25)\n",
    "    Q3 = df[var].quantile(0.75)\n",
    "    IQR = Q3 - Q1\n",
    "    df = df[(df[var]>(Q1 - t * IQR)) & (df[var]<(Q3 + t * IQR))]"
   ]
  },
  {
   "cell_type": "code",
   "execution_count": null,
   "id": "28875e7f",
   "metadata": {
    "ExecuteTime": {
     "end_time": "2023-03-16T15:16:21.603947Z",
     "start_time": "2023-03-16T15:16:11.299288Z"
    },
    "id": "28875e7f"
   },
   "outputs": [],
   "source": [
    "## Writing the dataframe after removing the outliers to excel file\n",
    "df.to_excel('../data/processed/df_nomis_noout.xlsx')"
   ]
  },
  {
   "cell_type": "code",
   "execution_count": null,
   "id": "88e820b3",
   "metadata": {
    "ExecuteTime": {
     "end_time": "2023-03-16T15:16:30.034582Z",
     "start_time": "2023-03-16T15:16:29.833166Z"
    },
    "id": "88e820b3"
   },
   "outputs": [],
   "source": [
    "## Writing the dataframe after removing the outliers to csv file\n",
    "df.to_csv('../data/processed/df_nomis_noout.csv')"
   ]
  },
  {
   "cell_type": "markdown",
   "id": "69365364",
   "metadata": {
    "id": "69365364"
   },
   "source": [
    "\n",
    "\n",
    "<div class=\"alert alert-block alert-warning\">\n",
    "    \n",
    "## Categorize string values\n",
    "</div>"
   ]
  },
  {
   "cell_type": "code",
   "execution_count": null,
   "id": "a2b40398",
   "metadata": {
    "ExecuteTime": {
     "end_time": "2023-03-16T15:51:50.123913Z",
     "start_time": "2023-03-16T15:51:43.287801Z"
    },
    "id": "a2b40398"
   },
   "outputs": [],
   "source": [
    "## Read the excel file with no outliers\n",
    "df = pd.read_excel('../data/processed/df_nomis_noout.xlsx')"
   ]
  },
  {
   "cell_type": "code",
   "execution_count": null,
   "id": "0cf31f52",
   "metadata": {
    "ExecuteTime": {
     "end_time": "2023-03-16T15:51:50.228729Z",
     "start_time": "2023-03-16T15:51:50.214331Z"
    },
    "id": "0cf31f52"
   },
   "outputs": [],
   "source": [
    "## Mentioning the \n",
    "strings = ['Socail Demographic Code', 'Job Title', 'All.1']\n",
    "# distance --> impute by distribution"
   ]
  },
  {
   "cell_type": "code",
   "execution_count": null,
   "id": "2c135d44",
   "metadata": {
    "ExecuteTime": {
     "end_time": "2023-03-16T15:51:51.001698Z",
     "start_time": "2023-03-16T15:51:50.973634Z"
    },
    "id": "2c135d44"
   },
   "outputs": [],
   "source": [
    "## Assign values for each category\n",
    "var = 'Socail Demographic Code'\n",
    "df[var] = df[var].astype('category')\n",
    "mapping_soc = dict( zip(df[var],df[var].cat.codes ) )\n",
    "df[var] = df[var].map(mapping_soc)"
   ]
  },
  {
   "cell_type": "code",
   "execution_count": null,
   "id": "dde09d10",
   "metadata": {
    "ExecuteTime": {
     "end_time": "2023-03-16T15:51:52.207161Z",
     "start_time": "2023-03-16T15:51:52.180049Z"
    },
    "id": "dde09d10"
   },
   "outputs": [],
   "source": [
    "var = 'Job Title'\n",
    "df[var] = df[var].astype('category')\n",
    "mapping_job = dict( zip(df[var],df[var].cat.codes ) )\n",
    "df[var] = df[var].map(mapping_job)"
   ]
  },
  {
   "cell_type": "code",
   "execution_count": null,
   "id": "c1578e19",
   "metadata": {
    "ExecuteTime": {
     "end_time": "2023-03-16T15:51:53.089823Z",
     "start_time": "2023-03-16T15:51:53.074129Z"
    },
    "id": "c1578e19"
   },
   "outputs": [],
   "source": [
    "np.save('../data/processed/mapping_soc.npy', mapping_soc) \n",
    "np.save('../data/processed/mapping_job.npy', mapping_job) "
   ]
  },
  {
   "cell_type": "code",
   "execution_count": null,
   "id": "072bcc61",
   "metadata": {
    "ExecuteTime": {
     "end_time": "2023-03-16T15:52:18.135548Z",
     "start_time": "2023-03-16T15:52:18.114000Z"
    },
    "id": "072bcc61"
   },
   "outputs": [],
   "source": [
    "var = 'All.1'\n",
    "\n",
    "#Replacing the columns () with value 'Not Found' as 0 and changing it into float\n",
    "\n",
    "df[var] = df[var].replace({'Not Found':0})\n",
    "\n",
    "df[var] = df[var].astype(float)"
   ]
  },
  {
   "cell_type": "code",
   "execution_count": null,
   "id": "b340ef26",
   "metadata": {
    "ExecuteTime": {
     "end_time": "2023-03-16T15:52:19.290440Z",
     "start_time": "2023-03-16T15:52:19.129742Z"
    },
    "id": "b340ef26"
   },
   "outputs": [],
   "source": [
    "df.to_csv('../data/processed/prejake_final.csv')"
   ]
  },
  {
   "cell_type": "code",
   "execution_count": null,
   "id": "110f42a0",
   "metadata": {},
   "outputs": [],
   "source": [
    "df[' Distance Candidate is from Job location (KM) '].dtype"
   ]
  },
  {
   "cell_type": "code",
   "execution_count": null,
   "id": "762560a1",
   "metadata": {
    "id": "762560a1"
   },
   "outputs": [],
   "source": [
    "#Replace 'Distance not found' with NAN, converting into float\n",
    "\n",
    "df[' Distance Candidate is from Job location (KM) '] = df[' Distance Candidate is from Job location (KM) '].replace({'Distance not found':np.nan})\n",
    "df[' Distance Candidate is from Job location (KM) '] = df[' Distance Candidate is from Job location (KM) '].astype(float)\n",
    "\n",
    "#Take the candidate information where the job location is less than 50 km\n",
    "\n",
    "df = df[df[' Distance Candidate is from Job location (KM) ']<50]\n"
   ]
  },
  {
   "cell_type": "code",
   "execution_count": null,
   "id": "f37b4a67",
   "metadata": {
    "ExecuteTime": {
     "end_time": "2023-03-16T17:37:36.514297Z",
     "start_time": "2023-03-16T17:37:36.482944Z"
    },
    "id": "f37b4a67"
   },
   "outputs": [],
   "source": [
    "#Imputing the ' Distance Candidate is from Job location (KM) ' using the distribution\n",
    "\n",
    "f = np.array(df[' Distance Candidate is from Job location (KM) ']).reshape(-1, 1)\n",
    "\n",
    "imputer = KNNImputer(n_neighbors=3, weights='uniform', metric='nan_euclidean')\n",
    "imputer.fit(f)\n",
    "Xtrans = imputer.transform(f)\n",
    "\n",
    "df[' Distance Candidate is from Job location (KM) '] = Xtrans"
   ]
  },
  {
   "cell_type": "code",
   "execution_count": null,
   "id": "b39b04dc",
   "metadata": {
    "ExecuteTime": {
     "end_time": "2023-03-16T17:40:54.621185Z",
     "start_time": "2023-03-16T17:40:54.304109Z"
    },
    "id": "b39b04dc"
   },
   "outputs": [],
   "source": [
    "df.to_csv('../data/processed/final.csv')"
   ]
  },
  {
   "cell_type": "markdown",
   "id": "9974935c",
   "metadata": {
    "id": "9974935c"
   },
   "source": [
    "\n",
    "\n",
    "<div class=\"alert alert-block alert-warning\">\n",
    "    \n",
    "# Oversampling\n",
    "</div>"
   ]
  },
  {
   "cell_type": "code",
   "execution_count": null,
   "id": "3d40273e",
   "metadata": {
    "ExecuteTime": {
     "end_time": "2023-03-17T11:40:23.078012Z",
     "start_time": "2023-03-17T11:40:23.006876Z"
    },
    "id": "3d40273e"
   },
   "outputs": [],
   "source": [
    "df = pd.read_csv('../data/processed/final.csv')"
   ]
  },
  {
   "cell_type": "code",
   "execution_count": null,
   "id": "04c69384",
   "metadata": {},
   "outputs": [],
   "source": [
    "aa = pd.read_csv('../data/processed/final.csv')"
   ]
  },
  {
   "cell_type": "code",
   "execution_count": null,
   "id": "b90a7d73",
   "metadata": {
    "ExecuteTime": {
     "end_time": "2023-03-17T11:15:11.697627Z",
     "start_time": "2023-03-17T11:15:11.666358Z"
    },
    "code_folding": [
     4
    ],
    "id": "b90a7d73"
   },
   "outputs": [],
   "source": [
    "#defining the binary, categorical & continuous variables with the column names of binary, categorical and continuous values from the dataframe.\n",
    "\n",
    "binary = ['Current Employee [1=YES / 0=No]','health_exp']\n",
    "categorical = ['Job Title']\n",
    "continuous = ['4. Living rent free',\n",
    " 'Employee: part-time',\n",
    " 'No car or van in household',\n",
    " 'Total economically active',\n",
    " 'Total economically inactive',\n",
    " 'Males',\n",
    " 'Widowed (or surviving partner from a same-sex civil partnership)',\n",
    " 'Count of Care home Beds  within 15 min drive',\n",
    " 'Full-time student (economically active)',\n",
    " 'Total Population',\n",
    " 'Kitchen & Domestic Skills',\n",
    " 'Self-employed',\n",
    " 'Females',\n",
    " 'Total cars or vans',\n",
    " 'Single (never married or registered a same-sex civil partnership)',\n",
    " 'Separated (but still legally married or in a same-sex civil partnership)',\n",
    " 'Health and Social Care ',\n",
    " 'Nurse Skills',\n",
    " 'Count of bus stops walking distance from candidates address ',\n",
    " 'Certification',\n",
    " 'General Skills',\n",
    " '3. Private rented',\n",
    " 'All people aged 16+',\n",
    " 'Average age of the care homes within 15 min drive',\n",
    " 'Socail Demographic Code',\n",
    " 'Admin Skills',\n",
    " 'Employee: full-time',\n",
    " 'Contracted hours',\n",
    " 'Married',\n",
    " 'length of service in months',\n",
    " 'Home Manager Skills',\n",
    " 'Count of Care homes within 15 min drive',\n",
    " 'Schoolchildren or full-time students aged 4+ at their non term-time address',\n",
    " 'Divorced (or formerly in a same-sex civil partnership which is now legally dissolved)',\n",
    " ' Distance Candidate is from Job location (KM) ',\n",
    " '1. Owned',\n",
    " 'Unemployed (economically active)',\n",
    " 'Sum of care home beds within walking distance from candidates address',\n",
    " 'Residents in households',\n",
    " 'candidateid',\n",
    " 'Specialist Area',\n",
    " 'Total Skills on CV',\n",
    " 'Count of Care Homes within walking distance (<500 meters) from candidates address',\n",
    " 'FlexForce',\n",
    " 'All',\n",
    " 'All.1',\n",
    " 'Advertised Salary']"
   ]
  },
  {
   "cell_type": "code",
   "execution_count": null,
   "id": "7283d685",
   "metadata": {
    "ExecuteTime": {
     "end_time": "2023-03-17T10:24:53.741126Z",
     "start_time": "2023-03-17T10:24:53.709924Z"
    },
    "id": "7283d685"
   },
   "outputs": [],
   "source": [
    "mapj = np.load('../data/processed/mapping_job.npy',allow_pickle=True)"
   ]
  },
  {
   "cell_type": "code",
   "execution_count": null,
   "id": "3650c35d",
   "metadata": {
    "ExecuteTime": {
     "end_time": "2023-03-17T10:26:49.303196Z",
     "start_time": "2023-03-17T10:26:49.271921Z"
    },
    "id": "3650c35d"
   },
   "outputs": [],
   "source": [
    "#Retriving the candidate details based on the current employment status and job title\n",
    "\n",
    "carers = df[(df['Current Employee [1=YES / 0=No]'] == 0) & (df['Job Title'] == 0)]\n",
    "nurses = df[(df['Current Employee [1=YES / 0=No]'] == 0) & (df['Job Title'] == 1)]\n",
    "seniors = df[(df['Current Employee [1=YES / 0=No]'] == 0) & (df['Job Title'] == 2)]"
   ]
  },
  {
   "cell_type": "code",
   "execution_count": null,
   "id": "3c3c3fed",
   "metadata": {
    "ExecuteTime": {
     "end_time": "2023-03-17T10:38:57.730000Z",
     "start_time": "2023-03-17T10:38:57.698763Z"
    },
    "id": "3c3c3fed"
   },
   "outputs": [],
   "source": [
    "#Function to oversample the values in each class\n",
    "\n",
    "def oversample_class(df_x_train_real, percentage = 0.25):\n",
    "    n_epochs=20\n",
    "    batch_size=40\n",
    "    seed_value = 1\n",
    "#     torch.manual_seed(seed_value)\n",
    "    np.random.seed(seed_value)\n",
    "\n",
    "    v_column_names = df_x_train_real.columns.to_list()\n",
    "\n",
    "    n_synthetic_samples = int(df_x_train_real.shape[0] * percentage)\n",
    "\n",
    "    oversampler_model = CTGAN(epochs=n_epochs, batch_size=batch_size, verbose=True, cuda=False)\n",
    "    oversampler_model.fit(df_x_train_real, v_column_names)\n",
    "\n",
    "    df_x_train_synthetic = oversampler_model.sample(n_synthetic_samples)\n",
    "    df_x_train_synthetic.to_csv('../data/processed/synthetic_senior_carers.csv')\n",
    "    return df_x_train_synthetic"
   ]
  },
  {
   "cell_type": "code",
   "execution_count": null,
   "id": "fefe745f",
   "metadata": {
    "ExecuteTime": {
     "end_time": "2023-03-17T10:38:58.786818Z",
     "start_time": "2023-03-17T10:38:58.739921Z"
    },
    "id": "fefe745f"
   },
   "outputs": [],
   "source": [
    "#Function to find the quality metrics of data\n",
    "\n",
    "def compute_quality_metrics(df_real, df_synthetic, list_categorical_vars, return_score=False):\n",
    "    dict_aux = {}\n",
    "    for var_name in df_real.columns.values:\n",
    "        if var_name in list_categorical_vars:\n",
    "            dict_aux[var_name] = {'type': 'categorical'}\n",
    "        else:\n",
    "            dict_aux[var_name] = {'type': 'numerical'}\n",
    "    dict_metadata = {'fields': dict_aux}\n",
    "\n",
    "    report = QualityReport()\n",
    "    report.generate(df_real, df_synthetic, dict_metadata)\n",
    "    df_metrics = report.get_details(property_name='Column Shapes')\n",
    "\n",
    "    fig1 = report.get_visualization(property_name='Column Shapes')\n",
    "    plt.savefig('../reports/figures/colshapes_report.png')\n",
    "    fig1.show()\n",
    "\n",
    "    fig = report.get_visualization(property_name='Column Pair Trends')\n",
    "    plt.savefig('../reports/figures/colpairs_report.png')\n",
    "    fig.show()\n",
    "\n",
    "    if return_score:\n",
    "        qscore = df_metrics.iloc[:, -1].values\n",
    "        return qscore"
   ]
  },
  {
   "cell_type": "code",
   "execution_count": null,
   "id": "3d5dd79f",
   "metadata": {},
   "outputs": [],
   "source": [
    "nurses = nurses.rename(columns = {'Count of Care home Beds  within 15 min drive' : 'Beds15drive' ,\n",
    "       'Sum of care home beds within walking distance from candidates address' :  'BedsWalking',\n",
    "       'Count of bus stops walking distance from candidates address ': 'BusStops',\n",
    "       'Single (never married or registered a same-sex civil partnership)':'Single',\n",
    "       'All':'Vocational_qual', 'All.1' : 'Academic_qual', 'Home Manager Skills':'HomeManagSkills', 'Employee: full-time': 'FTEmp',\n",
    "       'Contracted hours': 'ContHours', 'Certification':'Certif', 'Kitchen & Domestic Skills': 'DomSkills',\n",
    "       'Total economically active':'Active', 'Nurse Skills': 'NurseSkills', 'Admin Skills':'AdminSkills',\n",
    "       'Total Skills on CV':'TotSKills',\n",
    "       'Average age of the care homes within 15 min drive':'AvgAge',\n",
    "       'Health and Social Care ': 'SocialCare', 'Married':'Married', 'Current Employee [1=YES / 0=No]': 'CurrEmp',\n",
    "       'Unemployed (economically active)':'Unemp',\n",
    "       'Full-time student (economically active)':'Student',\n",
    "       'length of service in months':'LoS', 'All people aged 16+' : 'Age16+',\n",
    "       ' Distance Candidate is from Job location (KM) ':  'Dist2Job',\n",
    "       'Count of Care Homes within walking distance (<500 meters) from candidates address': 'Homes<500',\n",
    "       'Total cars or vans':'TotCars', 'Total Population':'Population', 'Total economically inactive':'Inactive',\n",
    "       'health_exp':'HExp', 'Count of Care homes within 15 min drive':'Homes15drive', '1. Owned':'Owned',\n",
    "       '4. Living rent free':'RentFree',\n",
    "       'Schoolchildren or full-time students aged 4+ at their non term-time address':'Children',\n",
    "       'No car or van in household':'NoCar',\n",
    "       'Widowed (or surviving partner from a same-sex civil partnership)':'Widows',\n",
    "       'General Skills':'GenSkills', 'Females':'Females',\n",
    "       'Separated (but still legally married or in a same-sex civil partnership)':'Separated',\n",
    "       'FlexForce':'FlexForce', 'Employee: part-time':'PartTime', 'Socail Demographic Code':'DemoCode',\n",
    "       'candidateid':'CandidateID', '3. Private rented':'PrivRent', 'Males':'Males', 'Specialist Area':'SpecArea',\n",
    "       'Residents in households':'Residents',\n",
    "       'Divorced (or formerly in a same-sex civil partnership which is now legally dissolved)':'Divorced',\n",
    "       'Job Title':'Job', 'Self-employed':'SelfEmp', 'Advertised Salary':'AdvSalary'})"
   ]
  },
  {
   "cell_type": "code",
   "execution_count": null,
   "id": "6daf1612",
   "metadata": {
    "ExecuteTime": {
     "end_time": "2023-03-17T11:13:48.256405Z",
     "start_time": "2023-03-17T10:38:59.649319Z"
    },
    "id": "6daf1612"
   },
   "outputs": [],
   "source": [
    "nurses_os = oversample_class(nurses, percentage = 0.25)"
   ]
  },
  {
   "cell_type": "code",
   "execution_count": null,
   "id": "b4fca190",
   "metadata": {
    "ExecuteTime": {
     "end_time": "2023-03-17T11:25:57.003461Z",
     "start_time": "2023-03-17T11:25:37.109698Z"
    },
    "id": "b4fca190",
    "scrolled": false
   },
   "outputs": [],
   "source": [
    "a = compute_quality_metrics(nurses, nurses_os, categorical, return_score=True)"
   ]
  },
  {
   "cell_type": "code",
   "execution_count": null,
   "id": "bdeb44a1",
   "metadata": {},
   "outputs": [],
   "source": [
    "seniors = seniors.rename(columns = {'Count of Care home Beds  within 15 min drive' : 'Beds15drive' ,\n",
    "       'Sum of care home beds within walking distance from candidates address' :  'BedsWalking',\n",
    "       'Count of bus stops walking distance from candidates address ': 'BusStops',\n",
    "       'Single (never married or registered a same-sex civil partnership)':'Single',\n",
    "       'All':'Vocational_qual', 'All.1' : 'Academic_qual', 'Home Manager Skills':'HomeManagSkills', 'Employee: full-time': 'FTEmp',\n",
    "       'Contracted hours': 'ContHours', 'Certification':'Certif', 'Kitchen & Domestic Skills': 'DomSkills',\n",
    "       'Total economically active':'Active', 'Nurse Skills': 'NurseSkills', 'Admin Skills':'AdminSkills',\n",
    "       'Total Skills on CV':'TotSKills',\n",
    "       'Average age of the care homes within 15 min drive':'AvgAge',\n",
    "       'Health and Social Care ': 'SocialCare', 'Married':'Married', 'Current Employee [1=YES / 0=No]': 'CurrEmp',\n",
    "       'Unemployed (economically active)':'Unemp',\n",
    "       'Full-time student (economically active)':'Student',\n",
    "       'length of service in months':'LoS', 'All people aged 16+' : 'Age16+',\n",
    "       ' Distance Candidate is from Job location (KM) ':  'Dist2Job',\n",
    "       'Count of Care Homes within walking distance (<500 meters) from candidates address': 'Homes<500',\n",
    "       'Total cars or vans':'TotCars', 'Total Population':'Population', 'Total economically inactive':'Inactive',\n",
    "       'health_exp':'HExp', 'Count of Care homes within 15 min drive':'Homes15drive', '1. Owned':'Owned',\n",
    "       '4. Living rent free':'RentFree',\n",
    "       'Schoolchildren or full-time students aged 4+ at their non term-time address':'Children',\n",
    "       'No car or van in household':'NoCar',\n",
    "       'Widowed (or surviving partner from a same-sex civil partnership)':'Widows',\n",
    "       'General Skills':'GenSkills', 'Females':'Females',\n",
    "       'Separated (but still legally married or in a same-sex civil partnership)':'Separated',\n",
    "       'FlexForce':'FlexForce', 'Employee: part-time':'PartTime', 'Socail Demographic Code':'DemoCode',\n",
    "       'candidateid':'CandidateID', '3. Private rented':'PrivRent', 'Males':'Males', 'Specialist Area':'SpecArea',\n",
    "       'Residents in households':'Residents',\n",
    "       'Divorced (or formerly in a same-sex civil partnership which is now legally dissolved)':'Divorced',\n",
    "       'Job Title':'Job', 'Self-employed':'SelfEmp', 'Advertised Salary':'AdvSalary'})"
   ]
  },
  {
   "cell_type": "code",
   "execution_count": null,
   "id": "25522537",
   "metadata": {
    "ExecuteTime": {
     "end_time": "2023-03-17T11:32:18.381136Z",
     "start_time": "2023-03-17T11:26:04.379726Z"
    },
    "id": "25522537"
   },
   "outputs": [],
   "source": [
    "seniors_os = oversample_class(seniors, percentage = 0.25)"
   ]
  },
  {
   "cell_type": "code",
   "execution_count": null,
   "id": "e4c60747",
   "metadata": {
    "ExecuteTime": {
     "end_time": "2023-03-17T11:32:54.313189Z",
     "start_time": "2023-03-17T11:32:45.950327Z"
    },
    "id": "e4c60747"
   },
   "outputs": [],
   "source": [
    "b = compute_quality_metrics(seniors, seniors_os, categorical, return_score=True)"
   ]
  },
  {
   "cell_type": "code",
   "execution_count": null,
   "id": "bdd97106",
   "metadata": {},
   "outputs": [],
   "source": [
    "#carers = carers.rename(columns = {'Count of Care home Beds  within 15 min drive' : 'Beds15drive' ,\n",
    "       'Sum of care home beds within walking distance from candidates address' :  'BedsWalking',\n",
    "       'Count of bus stops walking distance from candidates address ': 'BusStops',\n",
    "       'Single (never married or registered a same-sex civil partnership)':'Single',\n",
    "       'All':'Vocational_qual', 'All.1' : 'Academic_qual', 'Home Manager Skills':'HomeManagSkills', 'Employee: full-time': 'FTEmp',\n",
    "       'Contracted hours': 'ContHours', 'Certification':'Certif', 'Kitchen & Domestic Skills': 'DomSkills',\n",
    "       'Total economically active':'Active', 'Nurse Skills': 'NurseSkills', 'Admin Skills':'AdminSkills',\n",
    "       'Total Skills on CV':'TotSKills',\n",
    "       'Average age of the care homes within 15 min drive':'AvgAge',\n",
    "       'Health and Social Care ': 'SocialCare', 'Married':'Married', 'Current Employee [1=YES / 0=No]': 'CurrEmp',\n",
    "       'Unemployed (economically active)':'Unemp',\n",
    "       'Full-time student (economically active)':'Student',\n",
    "       'length of service in months':'LoS', 'All people aged 16+' : 'Age16+',\n",
    "       ' Distance Candidate is from Job location (KM) ':  'Dist2Job',\n",
    "       'Count of Care Homes within walking distance (<500 meters) from candidates address': 'Homes<500',\n",
    "       'Total cars or vans':'TotCars', 'Total Population':'Population', 'Total economically inactive':'Inactive',\n",
    "       'health_exp':'HExp', 'Count of Care homes within 15 min drive':'Homes15drive', '1. Owned':'Owned',\n",
    "       '4. Living rent free':'RentFree',\n",
    "       'Schoolchildren or full-time students aged 4+ at their non term-time address':'Children',\n",
    "       'No car or van in household':'NoCar',\n",
    "       'Widowed (or surviving partner from a same-sex civil partnership)':'Widows',\n",
    "       'General Skills':'GenSkills', 'Females':'Females',\n",
    "       'Separated (but still legally married or in a same-sex civil partnership)':'Separated',\n",
    "       'FlexForce':'FlexForce', 'Employee: part-time':'PartTime', 'Socail Demographic Code':'DemoCode',\n",
    "       'candidateid':'CandidateID', '3. Private rented':'PrivRent', 'Males':'Males', 'Specialist Area':'SpecArea',\n",
    "       'Residents in households':'Residents',\n",
    "       'Divorced (or formerly in a same-sex civil partnership which is now legally dissolved)':'Divorced',\n",
    "       'Job Title':'Job', 'Self-employed':'SelfEmp', 'Advertised Salary':'AdvSalary'})"
   ]
  },
  {
   "cell_type": "code",
   "execution_count": null,
   "id": "30345f28",
   "metadata": {},
   "outputs": [],
   "source": [
    "#carers_os = oversample_class(carers, percentage = 0.25)\n"
   ]
  },
  {
   "cell_type": "code",
   "execution_count": null,
   "id": "3e92c324",
   "metadata": {},
   "outputs": [],
   "source": [
    "#c = compute_quality_metrics(carers, carers_os, categorical, return_score=True)"
   ]
  },
  {
   "cell_type": "code",
   "execution_count": null,
   "id": "b4b7d2fa",
   "metadata": {},
   "outputs": [],
   "source": []
  },
  {
   "cell_type": "code",
   "execution_count": null,
   "id": "254ec367",
   "metadata": {
    "ExecuteTime": {
     "end_time": "2023-03-17T11:36:59.624575Z",
     "start_time": "2023-03-17T11:36:59.591590Z"
    },
    "id": "254ec367"
   },
   "outputs": [],
   "source": [
    "# merge synthetic data from nurses and seniors to original data from carer\n",
    "final_nurses = pd.concat([nurses, nurses_os])\n",
    "final_seniors = pd.concat([seniors, seniors_os])"
   ]
  },
  {
   "cell_type": "code",
   "execution_count": null,
   "id": "579bb8e2",
   "metadata": {
    "ExecuteTime": {
     "end_time": "2023-03-17T11:39:31.811520Z",
     "start_time": "2023-03-17T11:39:31.780417Z"
    },
    "id": "579bb8e2"
   },
   "outputs": [],
   "source": [
    "# save final csv\n",
    "file_os = pd.concat([final_nurses, final_seniors,carers])"
   ]
  },
  {
   "cell_type": "code",
   "execution_count": null,
   "id": "aca9949a",
   "metadata": {
    "ExecuteTime": {
     "end_time": "2023-03-17T11:39:24.776557Z",
     "start_time": "2023-03-17T11:39:24.760072Z"
    },
    "id": "aca9949a"
   },
   "outputs": [],
   "source": [
    "current_employees = df[(df['Current Employee [1=YES / 0=No]'] == 1)]"
   ]
  },
  {
   "cell_type": "code",
   "execution_count": null,
   "id": "663d7a4f",
   "metadata": {
    "ExecuteTime": {
     "end_time": "2023-03-17T11:39:50.690839Z",
     "start_time": "2023-03-17T11:39:50.673025Z"
    },
    "id": "663d7a4f"
   },
   "outputs": [],
   "source": [
    "final_file_oversamples = pd.concat([file_os, current_employees])"
   ]
  },
  {
   "cell_type": "code",
   "execution_count": null,
   "id": "aa327161",
   "metadata": {
    "ExecuteTime": {
     "end_time": "2023-03-17T11:42:22.993096Z",
     "start_time": "2023-03-17T11:42:22.832564Z"
    },
    "id": "aa327161"
   },
   "outputs": [],
   "source": [
    "final_file_oversamples.to_csv('../data/processed/data.csv')"
   ]
  },
  {
   "cell_type": "markdown",
   "id": "5391e741",
   "metadata": {
    "id": "5391e741"
   },
   "source": [
    "<div class=\"alert alert-block alert-danger\">\n",
    "    \n",
    "# Statistical Analysis\n",
    "   \n",
    "</div>"
   ]
  },
  {
   "cell_type": "code",
   "execution_count": null,
   "id": "4221a6e0",
   "metadata": {
    "ExecuteTime": {
     "end_time": "2023-03-17T12:05:19.411427Z",
     "start_time": "2023-03-17T12:05:19.338354Z"
    },
    "id": "4221a6e0"
   },
   "outputs": [],
   "source": [
    "df = pd.read_csv('../data/processed/data.csv')"
   ]
  },
  {
   "cell_type": "code",
   "execution_count": null,
   "id": "bfde8724",
   "metadata": {
    "ExecuteTime": {
     "end_time": "2023-03-17T12:05:52.612413Z",
     "start_time": "2023-03-17T12:05:52.586408Z"
    },
    "id": "bfde8724",
    "scrolled": true
   },
   "outputs": [],
   "source": [
    "df.drop(['Unnamed: 0.3', 'Unnamed: 0.2', 'Unnamed: 0.1', 'Unnamed: 0'], axis = 1, inplace = True)"
   ]
  },
  {
   "cell_type": "code",
   "execution_count": null,
   "id": "c8afd623",
   "metadata": {
    "ExecuteTime": {
     "end_time": "2023-03-17T11:47:13.033604Z",
     "start_time": "2023-03-17T11:47:13.013681Z"
    },
    "id": "c8afd623"
   },
   "outputs": [],
   "source": [
    "df.columns"
   ]
  },
  {
   "cell_type": "code",
   "execution_count": null,
   "id": "a9c5d20f",
   "metadata": {
    "ExecuteTime": {
     "end_time": "2023-03-17T12:05:55.233463Z",
     "start_time": "2023-03-17T12:05:55.209552Z"
    },
    "code_folding": [
     4
    ],
    "id": "a9c5d20f"
   },
   "outputs": [],
   "source": [
    "#defining the binary, categorical & continuous variables with the column names of binary, categorical and continuous values from the dataframe\n",
    "\n",
    "binary = ['Current Employee [1=YES / 0=No]','health_exp']\n",
    "categorical = ['Job Title']\n",
    "continuous = ['4. Living rent free',\n",
    " 'Employee: part-time',\n",
    " 'No car or van in household',\n",
    " 'Total economically active',\n",
    " 'Total economically inactive',\n",
    " 'Males',\n",
    " 'Widowed (or surviving partner from a same-sex civil partnership)',\n",
    " 'Count of Care home Beds  within 15 min drive',\n",
    " 'Full-time student (economically active)',\n",
    " 'Total Population',\n",
    " 'Kitchen & Domestic Skills',\n",
    " 'Self-employed',\n",
    " 'Females',\n",
    " 'Total cars or vans',\n",
    " 'Single (never married or registered a same-sex civil partnership)',\n",
    " 'Separated (but still legally married or in a same-sex civil partnership)',\n",
    " 'Health and Social Care ',\n",
    " 'Nurse Skills',\n",
    " 'Count of bus stops walking distance from candidates address ',\n",
    " 'Certification',\n",
    " 'General Skills',\n",
    " '3. Private rented',\n",
    " 'All people aged 16+',\n",
    " 'Average age of the care homes within 15 min drive',\n",
    " 'Socail Demographic Code',\n",
    " 'Admin Skills',\n",
    " 'Employee: full-time',\n",
    " 'Contracted hours',\n",
    " 'Married',\n",
    " 'length of service in months',\n",
    " 'Home Manager Skills',\n",
    " 'Count of Care homes within 15 min drive',\n",
    " 'Schoolchildren or full-time students aged 4+ at their non term-time address',\n",
    " 'Divorced (or formerly in a same-sex civil partnership which is now legally dissolved)',\n",
    " ' Distance Candidate is from Job location (KM) ',\n",
    " '1. Owned',\n",
    " 'Unemployed (economically active)',\n",
    " 'Sum of care home beds within walking distance from candidates address',\n",
    " 'Residents in households',\n",
    " 'candidateid',\n",
    " 'Specialist Area',\n",
    " 'Total Skills on CV',\n",
    " 'Count of Care Homes within walking distance (<500 meters) from candidates address',\n",
    " 'FlexForce',\n",
    " 'All',\n",
    " 'All.1',\n",
    " 'Advertised Salary']"
   ]
  },
  {
   "cell_type": "code",
   "execution_count": null,
   "id": "162eb67f",
   "metadata": {
    "ExecuteTime": {
     "end_time": "2023-03-17T12:05:55.801578Z",
     "start_time": "2023-03-17T12:05:55.786248Z"
    },
    "id": "162eb67f"
   },
   "outputs": [],
   "source": [
    "#Retriving the candidate details based on the current employment status and job title\n",
    "\n",
    "carers = df[(df['Current Employee [1=YES / 0=No]'] == 0) & (df['Job Title'] == 0)]\n",
    "nurses = df[(df['Current Employee [1=YES / 0=No]'] == 0) & (df['Job Title'] == 1)]\n",
    "seniors = df[(df['Current Employee [1=YES / 0=No]'] == 0) & (df['Job Title'] == 2)]"
   ]
  },
  {
   "cell_type": "code",
   "execution_count": null,
   "id": "c8363639",
   "metadata": {
    "ExecuteTime": {
     "end_time": "2023-03-17T12:06:06.645833Z",
     "start_time": "2023-03-17T12:06:06.629783Z"
    },
    "id": "c8363639"
   },
   "outputs": [],
   "source": [
    "seniors.shape"
   ]
  },
  {
   "cell_type": "markdown",
   "id": "32d628f7",
   "metadata": {
    "id": "32d628f7"
   },
   "source": [
    "\n",
    "\n",
    "<div class=\"alert alert-block alert-warning\">\n",
    "    \n",
    "## Correlation analysis\n",
    "</div>"
   ]
  },
  {
   "cell_type": "code",
   "execution_count": null,
   "id": "06f3834b",
   "metadata": {
    "ExecuteTime": {
     "end_time": "2023-03-17T12:01:03.254835Z",
     "start_time": "2023-03-17T12:01:03.237053Z"
    },
    "code_folding": [
     2
    ],
    "id": "06f3834b"
   },
   "outputs": [],
   "source": [
    "binary = ['Current Employee [1=YES / 0=No]','health_exp']\n",
    "categ = ['Job Title']\n",
    "continuous = ['4. Living rent free',\n",
    " 'Employee: part-time',\n",
    " 'No car or van in household',\n",
    " 'Total economically active',\n",
    " 'Total economically inactive',\n",
    " 'Males',\n",
    " 'Widowed (or surviving partner from a same-sex civil partnership)',\n",
    " 'Count of Care home Beds  within 15 min drive',\n",
    " 'Full-time student (economically active)',\n",
    " 'Total Population',\n",
    " 'Kitchen & Domestic Skills',\n",
    " 'Self-employed',\n",
    " 'Females',\n",
    " 'Total cars or vans',\n",
    " 'Single (never married or registered a same-sex civil partnership)',\n",
    " 'Separated (but still legally married or in a same-sex civil partnership)',\n",
    " 'Health and Social Care ',\n",
    " 'Nurse Skills',\n",
    " 'Count of bus stops walking distance from candidates address ',\n",
    " 'Certification',\n",
    " 'General Skills',\n",
    " '3. Private rented',\n",
    " 'All people aged 16+',\n",
    " 'Average age of the care homes within 15 min drive',\n",
    " 'Socail Demographic Code',\n",
    " 'Admin Skills',\n",
    " 'Employee: full-time',\n",
    " 'Contracted hours',\n",
    " 'Married',\n",
    " 'length of service in months',\n",
    " 'Home Manager Skills',\n",
    " 'Count of Care homes within 15 min drive',\n",
    " 'Schoolchildren or full-time students aged 4+ at their non term-time address',\n",
    " 'Divorced (or formerly in a same-sex civil partnership which is now legally dissolved)',\n",
    " ' Distance Candidate is from Job location (KM) ',\n",
    " '1. Owned',\n",
    " 'Unemployed (economically active)',\n",
    " 'Sum of care home beds within walking distance from candidates address',\n",
    " 'Residents in households',\n",
    " 'candidateid',\n",
    " 'Specialist Area',\n",
    " 'Total Skills on CV',\n",
    " 'Count of Care Homes within walking distance (<500 meters) from candidates address',\n",
    " 'FlexForce',\n",
    " 'All',\n",
    " 'All.1',\n",
    " 'Advertised Salary']"
   ]
  },
  {
   "cell_type": "code",
   "execution_count": null,
   "id": "d7985951",
   "metadata": {
    "ExecuteTime": {
     "end_time": "2023-03-17T11:52:21.592284Z",
     "start_time": "2023-03-17T11:52:21.560881Z"
    },
    "code_folding": [],
    "id": "d7985951"
   },
   "outputs": [],
   "source": [
    "# chi-square test\n",
    "def Cramers_v(df, col1, col2):\n",
    "    a = pd.crosstab(df[col1], df[col2], margins = False)\n",
    "\n",
    "    X2 = stats.chi2_contingency(np.array(a), correction=False)[0]\n",
    "    N = np.sum(np.array(a))\n",
    "    minimum_dimension = min(np.array(a).shape)-1\n",
    "    result = np.sqrt((X2/N) / minimum_dimension)\n",
    "\n",
    "    return np.sqrt((X2/N) / minimum_dimension)\n",
    "\n",
    "# Function to study correlation between vairables, using different coefficients for different types of variables;\n",
    "def correlation_all(df, numerical, categ, binary):\n",
    "\n",
    "    corr_vals = []\n",
    "    categorical = categ + binary\n",
    "    variables = categorical + continuous\n",
    "    listvar1 = []\n",
    "\n",
    "    for var1 in variables:\n",
    "        listvar2 = []\n",
    "        for var2 in variables:\n",
    "\n",
    "            if var1 in continuous and var2 in continuous:\n",
    "                corr, _ = stats.pearsonr(df[var1], df[var2])\n",
    "                listvar2.append(corr)\n",
    "\n",
    "            if var1 in continuous and var2 in categorical:\n",
    "                pbc, pval = stats.pointbiserialr(df[var2], df[var1])\n",
    "                listvar2.append(pbc)\n",
    "\n",
    "            if var1 in categorical and var2 in continuous:\n",
    "                pbc, pval = stats.pointbiserialr(df[var2], df[var1])\n",
    "                listvar2.append(pbc) \n",
    "\n",
    "            if var1 in categorical and var2 in categorical:\n",
    "                listvar2.append(Cramers_v(df, var1, var2))\n",
    "\n",
    "        listvar1.append(listvar2)\n",
    "\n",
    "    corrdf = pd.DataFrame(listvar1, columns = variables)\n",
    "    corrdf['Var'] = variables\n",
    "    corrdf.set_index('Var', inplace = True)\n",
    "    corrdf.update(corrdf.abs())  \n",
    "    return corrdf, corr_vals"
   ]
  },
  {
   "cell_type": "code",
   "execution_count": null,
   "id": "36f58468",
   "metadata": {
    "ExecuteTime": {
     "end_time": "2023-03-17T12:12:06.479025Z",
     "start_time": "2023-03-17T12:12:03.820562Z"
    },
    "code_folding": [
     6
    ],
    "id": "36f58468",
    "scrolled": true
   },
   "outputs": [],
   "source": [
    "df = carers\n",
    "corr_vals = []\n",
    "categorical = categ + binary\n",
    "variables = categorical + continuous\n",
    "listvar1 = []\n",
    "\n",
    "for var1 in variables:\n",
    "    listvar2 = []\n",
    "    for var2 in variables:\n",
    "        \n",
    "        if var1 in continuous and var2 in continuous:\n",
    "            corr, _ = stats.pearsonr(df[var1], df[var2])\n",
    "            listvar2.append(corr)\n",
    "\n",
    "        if var1 in continuous and var2 in categorical:\n",
    "            pbc, pval = stats.pointbiserialr(df[var2], df[var1])\n",
    "            listvar2.append(pbc)\n",
    "\n",
    "        if var1 in categorical and var2 in continuous:\n",
    "            pbc, pval = stats.pointbiserialr(df[var2], df[var1])\n",
    "            listvar2.append(pbc) \n",
    "\n",
    "        if var1 in categorical and var2 in categorical:\n",
    "            listvar2.append(Cramers_v(df, var1, var2))\n",
    "        \n",
    "    listvar1.append(listvar2)\n",
    "    \n",
    "corrdfcarers = pd.DataFrame(listvar1, columns = variables)\n",
    "corrdfcarers['Var'] = variables\n",
    "corrdfcarers.set_index('Var', inplace = True)\n",
    "corrdfcarers.update(corrdfcarers.abs())\n",
    "\n",
    "sns.heatmap(corrdfcarers, annot=False)\n",
    "plt.savefig('../reports/figures/corr_carers.pdf', bbox_inches = 'tight')"
   ]
  },
  {
   "cell_type": "code",
   "execution_count": null,
   "id": "4c3a2be2",
   "metadata": {
    "ExecuteTime": {
     "end_time": "2023-03-17T12:12:12.716567Z",
     "start_time": "2023-03-17T12:12:10.241900Z"
    },
    "code_folding": [
     6
    ],
    "id": "4c3a2be2"
   },
   "outputs": [],
   "source": [
    "df = nurses\n",
    "corr_vals = []\n",
    "categorical = categ + binary\n",
    "variables = categorical + continuous\n",
    "listvar1 = []\n",
    "\n",
    "for var1 in variables:\n",
    "    listvar2 = []\n",
    "    for var2 in variables:\n",
    "        \n",
    "        if var1 in continuous and var2 in continuous:\n",
    "            corr, _ = stats.pearsonr(df[var1], df[var2])\n",
    "            listvar2.append(corr)\n",
    "\n",
    "        if var1 in continuous and var2 in categorical:\n",
    "            pbc, pval = stats.pointbiserialr(df[var2], df[var1])\n",
    "            listvar2.append(pbc)\n",
    "\n",
    "        if var1 in categorical and var2 in continuous:\n",
    "            pbc, pval = stats.pointbiserialr(df[var2], df[var1])\n",
    "            listvar2.append(pbc) \n",
    "\n",
    "        if var1 in categorical and var2 in categorical:\n",
    "            listvar2.append(Cramers_v(df, var1, var2))\n",
    "        \n",
    "    listvar1.append(listvar2)\n",
    "    \n",
    "corrdfnurses = pd.DataFrame(listvar1, columns = variables)\n",
    "corrdfnurses['Var'] = variables\n",
    "corrdfnurses.set_index('Var', inplace = True)\n",
    "corrdfnurses.update(corrdfnurses.abs())\n",
    "\n",
    "sns.heatmap(corrdfnurses, annot=False)\n",
    "plt.savefig('../reports/figures/corr_nurses.pdf', bbox_inches = 'tight')"
   ]
  },
  {
   "cell_type": "markdown",
   "id": "6c0f7472",
   "metadata": {},
   "source": [
    "<div class=\"alert alert-block alert-danger\">\n",
    "    \n",
    "# Clustering\n",
    "</div>"
   ]
  },
  {
   "cell_type": "code",
   "execution_count": null,
   "id": "d8ef5836",
   "metadata": {},
   "outputs": [],
   "source": [
    "from sklearn.cluster import KMeans\n",
    "import numpy as np"
   ]
  },
  {
   "cell_type": "code",
   "execution_count": null,
   "id": "4a985a38",
   "metadata": {},
   "outputs": [],
   "source": [
    "df = pd.read_csv('../data/processed/data.csv')"
   ]
  },
  {
   "cell_type": "code",
   "execution_count": null,
   "id": "4a2965f1",
   "metadata": {},
   "outputs": [],
   "source": [
    "kmeans = KMeans(n_clusters=2)\n",
    "\n",
    "y = kmeans.fit_predict(df[['length of service in months']])"
   ]
  },
  {
   "cell_type": "code",
   "execution_count": null,
   "id": "ec9b4b7b",
   "metadata": {},
   "outputs": [],
   "source": [
    "from scipy.stats import f_oneway\n",
    "f_statistic, p_value = f_oneway(df['length of service in months'], y)\n",
    "\n",
    "print(\"P-Value:\", p_value)"
   ]
  },
  {
   "cell_type": "code",
   "execution_count": null,
   "id": "09bd9e1e",
   "metadata": {},
   "outputs": [],
   "source": [
    "df['Cluster'] = y"
   ]
  },
  {
   "cell_type": "code",
   "execution_count": null,
   "id": "55ba68d4",
   "metadata": {},
   "outputs": [],
   "source": [
    "from sklearn.datasets import make_blobs\n",
    "X, y = make_blobs(n_samples=df.shape[0], centers=2, n_features=1)"
   ]
  },
  {
   "cell_type": "code",
   "execution_count": null,
   "id": "6777c81c",
   "metadata": {},
   "outputs": [],
   "source": [
    "categorical = ['health_exp', 'Job Title']\n",
    "numerical = [var for var in df.columns if var not in categorical]\n",
    "print(categorical)\n",
    "print()\n",
    "print(numerical)"
   ]
  },
  {
   "cell_type": "code",
   "execution_count": null,
   "id": "ed0986b5",
   "metadata": {},
   "outputs": [],
   "source": [
    "df_0 = df[df['Cluster'] == 0]\n",
    "df_1 = df[df['Cluster'] == 1]\n",
    "print(max(df_0['length of service in months']), min(df_0['length of service in months']))\n",
    "print(max(df_1['length of service in months']), min(df_1['length of service in months']))\n",
    "cluster_dfs = [df_0, df_1]"
   ]
  },
  {
   "cell_type": "code",
   "execution_count": null,
   "id": "ed82812f",
   "metadata": {},
   "outputs": [],
   "source": [
    "import seaborn as sns\n",
    "import matplotlib.pyplot as plt\n",
    "sns.distplot(df_0['length of service in months'], hist=False, kde_kws=dict(linewidth=5))\n",
    "sns.distplot(df_1['length of service in months'], hist=False, kde_kws=dict(linewidth=5))\n",
    "plt.xlim(-10, 100)\n",
    "plt.axvline(x = 26, color = 'g', label = 'axvline - full height', linestyle='--', lw=3)\n",
    "plt.xlabel(\"Length of Service in Months\")\n",
    "plt.title(\"Density plots with the threshold\")\n",
    "plt.savefig('density_clusters.png', dpi=300)\n",
    "plt.show()"
   ]
  },
  {
   "cell_type": "code",
   "execution_count": null,
   "id": "91131975",
   "metadata": {},
   "outputs": [],
   "source": [
    "sns.distplot(df['length of service in months'], hist=False, kde_kws=dict(linewidth=5))\n",
    "plt.xlim(-10, 100)\n",
    "plt.axvline(x = 26, color = 'g', label = 'axvline - full height', linestyle='--', lw=3)\n",
    "plt.xlabel(\"Length of Service in Months\")\n",
    "plt.title(\"Density plot with the threshold\")\n",
    "plt.show()"
   ]
  },
  {
   "cell_type": "markdown",
   "id": "76e7cc04",
   "metadata": {
    "id": "76e7cc04"
   },
   "source": [
    "<div class=\"alert alert-block alert-danger\">\n",
    "    \n",
    "# Modeling\n",
    "</div>"
   ]
  },
  {
   "cell_type": "code",
   "execution_count": null,
   "id": "d228ed23",
   "metadata": {
    "ExecuteTime": {
     "end_time": "2023-03-20T16:16:57.993148Z",
     "start_time": "2023-03-20T16:16:57.977490Z"
    },
    "id": "d228ed23"
   },
   "outputs": [],
   "source": [
    "import math"
   ]
  },
  {
   "cell_type": "code",
   "execution_count": null,
   "id": "ceb8d6c9",
   "metadata": {
    "ExecuteTime": {
     "end_time": "2023-03-20T16:16:58.338961Z",
     "start_time": "2023-03-20T16:16:58.323321Z"
    },
    "code_folding": [],
    "id": "ceb8d6c9"
   },
   "outputs": [],
   "source": [
    "#scaling the test and train data\n",
    "\n",
    "def scale_features(x_train, x_test):\n",
    "    scaler = MinMaxScaler()\n",
    "    x_train_raw = x_train.copy()\n",
    "    x_test_raw = x_test.copy()\n",
    "    scaler.fit(x_train)\n",
    "    x_train = pd.DataFrame(data = scaler.transform(x_train), columns = list(x_train_raw.columns))\n",
    "    x_test = pd.DataFrame(data = scaler.transform(x_test), columns = list(x_train_raw.columns))\n",
    "    return x_train, x_test, x_train_raw, x_test_raw"
   ]
  },
  {
   "cell_type": "code",
   "execution_count": null,
   "id": "5733476e",
   "metadata": {
    "ExecuteTime": {
     "end_time": "2023-03-20T16:16:58.605824Z",
     "start_time": "2023-03-20T16:16:58.590272Z"
    },
    "code_folding": [],
    "id": "5733476e"
   },
   "outputs": [],
   "source": [
    "def plot_corresponding_ale_numerical_feature(df_ale_numerical, df_ale_numerical_raw, var_name, estimator_name, itera, job, flag_save_figure=True):\n",
    "\n",
    "    df_ale_numerical = df_ale_numerical.reset_index()\n",
    "    df_ale_numerical_raw = df_ale_numerical_raw.reset_index()\n",
    "    first_std = df_ale_numerical.iloc[0, 1]\n",
    "    df_ale_numerical['lowerCI_95%'] = df_ale_numerical['lowerCI_95%'].fillna(first_std)\n",
    "    df_ale_numerical['upperCI_95%'] = df_ale_numerical['upperCI_95%'].fillna(first_std)\n",
    "\n",
    "    fig, ax = plt.subplots(1, 1, figsize=(5, 3.1))\n",
    "    ax.plot(df_ale_numerical_raw[var_name], df_ale_numerical['eff'], ls='solid', color='blue')\n",
    "    ax.fill_between(df_ale_numerical_raw[var_name], df_ale_numerical['lowerCI_95%'], df_ale_numerical['upperCI_95%'], label='95% CI', alpha=0.3, color='grey', lw=2)\n",
    "    ax.set_xlabel(var_name, fontsize=12)\n",
    "\n",
    "    plt.xticks(fontsize=11)\n",
    "    plt.yticks(fontsize=11)\n",
    "    plt.legend()\n",
    "    plt.grid(alpha=0.5, linestyle='--')\n",
    "    fig.tight_layout()\n",
    "    \n",
    "    if '<' in var_name:\n",
    "        var_name = var_name.replace(\"<\", \"\")\n",
    "\n",
    "    plt.savefig('../reports/figures/{}_{}_ale_{}_seed_{}.pdf'.format(job,estimator_name,var_name,itera), bbox_inches = 'tight')\n",
    "    plt.clf()\n",
    "    plt.close()"
   ]
  },
  {
   "cell_type": "code",
   "execution_count": null,
   "id": "5bf0ef06",
   "metadata": {
    "ExecuteTime": {
     "end_time": "2023-03-20T16:16:58.983263Z",
     "start_time": "2023-03-20T16:16:58.951966Z"
    },
    "code_folding": [],
    "id": "5bf0ef06"
   },
   "outputs": [],
   "source": [
    "def plot_corresponding_ale_categorical_feature(df_ale_cat, var_name, estimator_name, itera,job, flag_save_figure=True):\n",
    "\n",
    "    df_ale_cat = df_ale_cat.reset_index()\n",
    "    first_std = df_ale_cat.iloc[0, 1]\n",
    "    df_ale_cat['lowerCI_95%'] = df_ale_cat['lowerCI_95%'].fillna(first_std)\n",
    "    df_ale_cat['upperCI_95%'] = df_ale_cat['upperCI_95%'].fillna(first_std)\n",
    "\n",
    "    fig, ax = plt.subplots(1, 1, figsize=(5, 3.1))\n",
    "    ax.bar(df_ale_cat[var_name], df_ale_cat['eff'], width=0.4, color='blue', alpha=0.0)\n",
    "    ax.set_ylabel('', fontsize=16)\n",
    "    ax2 = ax.twinx()\n",
    "    ax2.bar(df_ale_cat[var_name], df_ale_cat['size'], width=0.4, color='blue', alpha=0.3)\n",
    "    ax2.set_ylabel('Size', fontsize=16)\n",
    "    ax.plot([df_ale_cat.iloc[0, 0], df_ale_cat.iloc[1, 0]],[df_ale_cat.iloc[0, 1], df_ale_cat.iloc[1, 1]],'--', marker='o', color='black')\n",
    "\n",
    "    for index, row in df_ale_cat.iterrows():\n",
    "        p_inf = [row[var_name], row['lowerCI_95%']]\n",
    "        p_center = [row[var_name], row['eff']]\n",
    "        yerr = math.sqrt((p_center[0] - p_inf[0])**2 + (p_center[1] - p_inf[1])**2)\n",
    "        ax.errorbar(row[var_name], row['eff'], yerr, fmt='o', lw=2, capsize=4, color='black')\n",
    "\n",
    "    ax.set_xlabel(var_name, fontsize=12)\n",
    "    ax.set_xticks([0, 1])\n",
    "    plt.grid(alpha=0.5, linestyle='--')\n",
    "    fig.tight_layout()\n",
    "    \n",
    "    if '<' in var_name:\n",
    "        var_name = var_name.replace(\"<\", \"\") \n",
    "    \n",
    "    plt.savefig('../reports/figures/{}_{}_ale_{}_seed_{}.pdf'.format(job,estimator_name,var_name,itera), bbox_inches = 'tight')\n",
    "    plt.clf()\n",
    "    plt.close()"
   ]
  },
  {
   "cell_type": "code",
   "execution_count": null,
   "id": "2d9f43c2",
   "metadata": {
    "ExecuteTime": {
     "end_time": "2023-03-20T16:16:59.721316Z",
     "start_time": "2023-03-20T16:16:59.690153Z"
    },
    "code_folding": [],
    "id": "2d9f43c2"
   },
   "outputs": [],
   "source": [
    "def plot_ale_features(df_x_test, model_estimator, df_x_test_raw, list_vars_numerical, list_vars_categorical, estimator_name, itera, job):\n",
    "\n",
    "    for var_numerical in list_vars_numerical:\n",
    "        df_ale_numerical = ale(X=df_x_test,model=model_estimator,feature=[var_numerical],plot=False,feature_type=\"continuous\",grid_size=10,include_CI=True,C=0.95)\n",
    "        df_ale_numerical_raw = ale(X=df_x_test_raw,model=model_estimator,feature=[var_numerical],plot=False,feature_type=\"continuous\",grid_size=10,include_CI=True,C=0.95)\n",
    "        plot_corresponding_ale_numerical_feature(df_ale_numerical, df_ale_numerical_raw, var_numerical,estimator_name, itera, job)\n",
    "\n",
    "    for var_categorical in list_vars_categorical:\n",
    "        ale_discr = ale(X=df_x_test,model=model_estimator,feature=[var_categorical],feature_type=\"discrete\",plot=False,grid_size=10,include_CI=True,C=0.95)\n",
    "        plot_corresponding_ale_categorical_feature(ale_discr, var_categorical,estimator_name, itera, job)"
   ]
  },
  {
   "cell_type": "code",
   "execution_count": null,
   "id": "2fcd0448",
   "metadata": {
    "ExecuteTime": {
     "end_time": "2023-03-20T16:17:00.163304Z",
     "start_time": "2023-03-20T16:17:00.129828Z"
    },
    "code_folding": [],
    "id": "2fcd0448"
   },
   "outputs": [],
   "source": [
    "def study_conf(job, classifier):\n",
    "    \n",
    "    df_metrics = pd.read_excel(\"../data/processed/metrics_{}.xlsx\".format(job))\n",
    "    dfconf = df_metrics[df_metrics['Classifier']== classifier]\n",
    "    \n",
    "    a = dfconf['cm'][dfconf['Iteration']==1].values[0].split()\n",
    "    b = dfconf['cm'][dfconf['Iteration']==2].values[0].split()\n",
    "    c = dfconf['cm'][dfconf['Iteration']==3].values[0].split()\n",
    "    d = dfconf['cm'][dfconf['Iteration']==4].values[0].split()\n",
    "    e = dfconf['cm'][dfconf['Iteration']==5].values[0].split()\n",
    "\n",
    "    confusiona = np.array([[int(a[0][2:]),int(a[1][:-1]) ], [int(a[3]),int(a[4][:-2])]])\n",
    "    confusionb = np.array([[int(b[0][2:]),int(b[1][:-1]) ], [int(b[3]),int(b[4][:-2])]])\n",
    "    confusionc = np.array([[int(c[0][2:]),int(c[1][:-1]) ], [int(c[3]),int(c[4][:-2])]])\n",
    "    confusiond = np.array([[int(d[0][2:]),int(d[1][:-1]) ], [int(d[3]),int(d[4][:-2])]])\n",
    "    confusione = np.array([[int(e[0][2:]),int(e[1][:-1]) ], [int(e[3]),int(e[4][:-2])]])\n",
    "\n",
    "    final_conf = confusiona+confusionb+confusionc+confusiond+confusione\n",
    "\n",
    "    df_cm = pd.DataFrame(final_conf, index = [i for i in ['Succesful', 'Unsuccesful']],\n",
    "                      columns = [i for i in ['Succesful', 'Unsuccesful']])\n",
    "#     sns.set(font_scale=3)\n",
    "    plt.figure(figsize = (10,7))\n",
    "    b = sns.heatmap(df_cm, annot=True, cmap = 'Blues',fmt=\"d\",annot_kws={'size': 30})\n",
    "    b.set_yticklabels(['Succesful', 'Unsuccesful'],size = 30)\n",
    "    b.set_xticklabels(['Succesful', 'Unsuccesful'],size = 30)\n",
    "    plt.savefig('../reports/figures/{}_{}_confusionmatrix.pdf'.format(job, classifier),bbox_inches = 'tight')"
   ]
  },
  {
   "cell_type": "code",
   "execution_count": null,
   "id": "2ec7d936",
   "metadata": {
    "ExecuteTime": {
     "end_time": "2023-03-20T16:17:04.087926Z",
     "start_time": "2023-03-20T16:17:04.041020Z"
    },
    "code_folding": [],
    "id": "2ec7d936"
   },
   "outputs": [],
   "source": [
    "TOT = 1e-4\n",
    "MAX_ITERS = 20000\n",
    "TEST_SIZE_PROPORTION = 0.2\n",
    "VALIDATION_SIZE_PROPORTION = 0.2\n",
    "\n",
    "## To get the best possible hyper parameter\n",
    "\n",
    "def get_hyperparams(classifier_name: str, num_features, seed_value: int = 4242): \n",
    "    MAX_ITERS = 20000\n",
    "    dict_param_grid_classifier = {}\n",
    "    classifier = None\n",
    "\n",
    "    if classifier_name == 'svm':\n",
    "        dict_param_grid_classifier = {'C': np.linspace(0.01, 10, 10),'gamma': ['auto'], 'kernel': ['rbf', 'linear', 'poly', 'sigmoid'],\n",
    "                                     'class_weight':['balanced'],'probability':[True]} \n",
    "        classifier = SVC(max_iter=MAX_ITERS, random_state=seed_value)\n",
    "\n",
    "    elif classifier_name == 'dt':\n",
    "        dict_param_grid_classifier = {'max_depth': np.arange(1, 30, 1), 'min_samples_split': np.arange(2, 50, 2),\n",
    "                                      'class_weight':['balanced']}\n",
    "        classifier = DecisionTreeClassifier(random_state=seed_value)\n",
    "\n",
    "    elif classifier_name == 'rf':\n",
    "        dict_param_grid_classifier = {'max_depth': np.arange(1, 30, 3), 'n_estimators': np.arange(20, 50, 5)\n",
    "                                      ,'min_samples_split': np.arange(2, 25, 5),'class_weight':['balanced']}\n",
    "        classifier = RandomForestClassifier(n_jobs=-1, random_state=seed_value)\n",
    "\n",
    "    elif classifier_name == 'knn':\n",
    "        dict_param_grid_classifier = {'n_neighbors': np.arange(1, 20, 1)}\n",
    "        classifier = KNeighborsClassifier()\n",
    "  \n",
    "    elif classifier_name == 'lr':\n",
    "        dict_param_grid_classifier = {'penalty': ['l2', 'none'],'class_weight':['balanced']}\n",
    "        classifier = LogisticRegression(multi_class='multinomial', n_jobs=-1, random_state=seed_value)\n",
    " \n",
    "    list_dicts_params_learning_curve = []\n",
    "\n",
    "    for key, value in dict_param_grid_classifier.items():\n",
    "        dict_param_lrc = {'param_name': key, 'param_range': value}\n",
    "        list_dicts_params_learning_curve.append(dict_param_lrc)\n",
    "\n",
    "    return classifier, dict_param_grid_classifier, list_dicts_params_learning_curve"
   ]
  },
  {
   "cell_type": "code",
   "execution_count": null,
   "id": "d7ef0f26",
   "metadata": {
    "ExecuteTime": {
     "end_time": "2023-03-20T16:17:04.406961Z",
     "start_time": "2023-03-20T16:17:04.370703Z"
    },
    "id": "d7ef0f26"
   },
   "outputs": [],
   "source": [
    "def two_proportion_test(len1, prop1, len2, prop2, variable):\n",
    "    \n",
    "    n1 = len1\n",
    "    n2 = len2\n",
    "    n = n1+n2\n",
    "    p1 = prop1\n",
    "    p2 = prop2\n",
    "    x1 = p1*n1\n",
    "    x2 = p2*n2\n",
    "    p_pool = (x1+x2)/n\n",
    "    se = np.sqrt(p_pool*(1-p_pool)*(1/n1+1/n2))\n",
    "    z_statistic = (p1-p2)/se\n",
    "    p_value = 2*stats.norm().cdf(-1*np.abs(z_statistic))\n",
    "\n",
    "    return p_value\n",
    "        \n",
    "def comparison(categorical, numerical, cluster_dfs):\n",
    "\n",
    "    list_combinations = list(combinations(list(range(len(cluster_dfs))), 2))\n",
    "    full_features = []\n",
    "    full_pvals = []\n",
    "    selected = []\n",
    "    for cluster in list_combinations:\n",
    "        features = []\n",
    "        pvals = []\n",
    "        sel = []\n",
    "#         print('Clusters analyzed:', cluster)\n",
    "        cluster_1 = cluster_dfs[cluster[0]]\n",
    "        cluster_2 = cluster_dfs[cluster[1]]\n",
    "\n",
    "        for i in categorical:\n",
    "            len1, prop1 = cluster_1.shape[0], cluster_1.loc[cluster_1[i]==1].shape[0]/cluster_1.shape[0]\n",
    "            len2, prop2 = cluster_2.shape[0], cluster_2.loc[cluster_2[i]==1].shape[0]/cluster_2.shape[0]\n",
    "            pv = two_proportion_test(len1, prop1, len2, prop2, variable = i)\n",
    "            features.append(i)\n",
    "            pvals.append(pv)\n",
    "            if pv < 0.05:\n",
    "                sel.append(i)\n",
    "            \n",
    "        for i in numerical:\n",
    "            features.append(i)\n",
    "            _, pval1 = stats.shapiro(cluster_1[i])\n",
    "            _, pval2 = stats.shapiro(cluster_2[i])\n",
    "\n",
    "            if pval1 or pval2 > 0.05:\n",
    "                _, pv = stats.ttest_ind(cluster_1[i], cluster_2[i]) \n",
    "                pvals.append(pv)\n",
    "                if pv < 0.05:\n",
    "                    sel.append(i)\n",
    "            else: \n",
    "                tval, pval = stats.mannwhitneyu(cluster_1[i], cluster_2[i])\n",
    "                pvals.append(pval)\n",
    "                if pval < 0.05:\n",
    "                    sel.append(i)\n",
    "                    \n",
    "        full_features.append(features)\n",
    "        full_pvals.append(pvals)\n",
    "        selected.append(sel)\n",
    "        \n",
    "    return full_features, full_pvals, selected"
   ]
  },
  {
   "cell_type": "code",
   "execution_count": null,
   "id": "6a23561f",
   "metadata": {
    "ExecuteTime": {
     "end_time": "2023-03-20T16:17:24.715989Z",
     "start_time": "2023-03-20T16:17:24.668670Z"
    },
    "code_folding": [],
    "id": "6a23561f"
   },
   "outputs": [],
   "source": [
    "def validation_results(X, y, classifier, shap_plot, ale_plot, shap_samples, job):\n",
    "\n",
    "    current_time = datetime.datetime.now()\n",
    "    kf = StratifiedKFold(n_splits=5, random_state = 42, shuffle=True)\n",
    "    training_scores = []\n",
    "    itera= 0\n",
    "    test_acc = []\n",
    "    test_roc = []\n",
    "    test_precision = []\n",
    "    test_recall = []\n",
    "    test_f1 = []\n",
    "    preds = []\n",
    "    actual_labels = []\n",
    "    \n",
    "    for train_index,test_index in kf.split(X,y):\n",
    "        # Generate the training and test partitions of X and Y for each iteration of CV\t\n",
    "        X_train, X_test = X.iloc[list(train_index)], X.iloc[list(test_index)]\n",
    "        y_train, y_test = y.iloc[list(train_index)], y.iloc[list(test_index)]\n",
    "\n",
    "        # Feature Scaling\n",
    "        X_train_norm, X_test_norm, X_train_raw, X_test_raw = scale_features(X_train, X_test)\n",
    "        if classifier in ['dt', 'rf', 'xgb']:\n",
    "            X_train = X_train_raw\n",
    "            X_test = X_test_raw\n",
    "        else:\n",
    "            X_train = X_train_norm\n",
    "            X_test = X_test_norm\n",
    "        actual_labels.extend(y_test)\n",
    "\n",
    "        priors = np.array(y_train.value_counts()/len(y_train))\n",
    "\n",
    "        # Get Model and Parameter grid_space\n",
    "        model_classifier, param_grid_classifier, list_dict_params = get_hyperparams(classifier, num_features=X_train.shape[1], seed_value=itera)\n",
    "\n",
    "        # Nested 5-fold CV for hyperparameter tuning and validation results\n",
    "        grid_cv = GridSearchCV(estimator=model_classifier, param_grid=param_grid_classifier, scoring='accuracy', cv=5, return_train_score=True, n_jobs=-1) #\n",
    "        grid_cv.fit(X_train, y_train)\n",
    "        best_estimator = grid_cv.best_estimator_\n",
    "        training_score = grid_cv.best_score_\n",
    "        training_scores.append(training_score)\n",
    "        itera= itera+ 1\n",
    "\n",
    "        y_pred = best_estimator.predict(X_test)\n",
    "        preds.extend(y_pred)\n",
    "        test_acc.append(accuracy_score(y_test, y_pred))\n",
    "        test_roc.append(roc_auc_score(y_test, y_pred))\n",
    "        test_precision.append(precision_score(y_test, y_pred))\n",
    "        test_recall.append(recall_score(y_test, y_pred))\n",
    "        test_f1.append(f1_score(y_test, y_pred,average='weighted'))\n",
    "        cmiter=confusion_matrix(y_test,y_pred)\n",
    "        \n",
    "        y_pred_proba = best_estimator.predict_proba(X_test)[::,1]\n",
    "        fpr, tpr, _ = roc_curve(y_test,  y_pred_proba)\n",
    "        auc = roc_auc_score(y_test, y_pred_proba)\n",
    "        plt.plot(fpr,tpr,label=\"auc=\"+str(auc))\n",
    "        plt.legend(loc=4)\n",
    "        plt.savefig('../reports/figures/{}_{}_roc_seed_{}.pdf'.format(job, classifier, itera), bbox_inches = 'tight')\n",
    "        plt.clf()\n",
    "        plt.close()\n",
    "        \n",
    "        if shap_plot == True:\n",
    "            deita = shap.sample(X_test, shap_samples) \n",
    "            explainer = shap.KernelExplainer(best_estimator.predict, deita)\n",
    "            shap_values = explainer.shap_values(deita)\n",
    "            shap_expected = explainer.expected_value\n",
    "            shap.summary_plot(shap_values, deita, show=False)\n",
    "            plt.savefig('../reports/figures/{}_{}_shap_summary_seed_{}.pdf'.format(job, classifier, itera), bbox_inches = 'tight')\n",
    "            plt.clf()\n",
    "            plt.close()\n",
    "            shap.summary_plot(shap_values,deita, plot_type=\"bar\", show=False)\n",
    "            plt.savefig('../reports/figures/{}_{}_shap_bar_seed_{}.pdf'.format(job,classifier, itera), bbox_inches = 'tight')\n",
    "            plt.clf()\n",
    "            plt.close()\n",
    "        \n",
    "        if ale_plot == True:\n",
    "            plot_ale_features(X_test, best_estimator, X_test_raw, [var for var in X_train.columns if var not in ['health_exp']], ['health_exp'], classifier, itera, job)\n",
    "\n",
    "        metrics_dict = {'Date':current_time, 'Iteration':itera, 'Classifier':classifier,\n",
    "                       'Best_params':grid_cv.best_params_, 'Training_score_iteration':grid_cv.best_score_, \n",
    "                       'accuracy_test':accuracy_score(y_test, y_pred), 'roc_test': roc_auc_score(y_test, y_pred),\n",
    "                       'precision_test':precision_score(y_test, y_pred), 'recall_test':recall_score(y_test, y_pred),\n",
    "                       'cm': np.asarray(cmiter),'f1': f1_score(y_test, y_pred,average='weighted')}\n",
    "        \n",
    "        df_metrics = pd.read_excel(\"../data/processed/metrics_{}.xlsx\".format(job))\n",
    "        df_metrics = df_metrics.append(metrics_dict, ignore_index=True)\n",
    "        df_metrics.to_excel(\"../data/processed/metrics_{}.xlsx\".format(job), index=False)\n",
    "\n",
    "    print('Mean training score for', classifier, 'model:', np.mean(training_scores))\n",
    "    print('Mean score',np.mean(test_acc), np.std(test_acc))"
   ]
  },
  {
   "cell_type": "code",
   "execution_count": null,
   "id": "d7d6585f",
   "metadata": {},
   "outputs": [],
   "source": [
    "#creating dataframes to store important training and testing metrics\n",
    "\n",
    "metrics_carers = pd.DataFrame(columns = ['Date', 'Iteration', 'Classifier', 'Best_params','Training_score_iteration','accuracy_test','roc_test',  'precision_test','recall_test','cm','f1'])\n",
    "metrics_carers.to_excel(\"../data/processed/metrics_carers.xlsx\")\n",
    "\n",
    "metrics_nurses = pd.DataFrame(columns = ['Date', 'Iteration', 'Classifier', 'Best_params','Training_score_iteration','accuracy_test','roc_test',  'precision_test','recall_test','cm','f1'])\n",
    "metrics_nurses.to_excel(\"../data/processed/metrics_nurses.xlsx\")\n",
    "\n",
    "metrics_seniors = pd.DataFrame(columns = ['Date', 'Iteration', 'Classifier', 'Best_params','Training_score_iteration','accuracy_test','roc_test',  'precision_test','recall_test','cm','f1'])\n",
    "metrics_seniors.to_excel(\"../data/processed/metrics_seniors.xlsx\")"
   ]
  },
  {
   "cell_type": "code",
   "execution_count": null,
   "id": "92219d16",
   "metadata": {},
   "outputs": [],
   "source": []
  },
  {
   "cell_type": "markdown",
   "id": "f003b4b7",
   "metadata": {
    "id": "f003b4b7"
   },
   "source": [
    "\n",
    "\n",
    "<div class=\"alert alert-block alert-success\">\n",
    "    \n",
    "# CARERS\n",
    "</div>"
   ]
  },
  {
   "cell_type": "code",
   "execution_count": null,
   "id": "061eeb76",
   "metadata": {},
   "outputs": [],
   "source": [
    "carers.head()"
   ]
  },
  {
   "cell_type": "code",
   "execution_count": null,
   "id": "dc2c5805",
   "metadata": {
    "ExecuteTime": {
     "end_time": "2023-03-20T16:17:26.835932Z",
     "start_time": "2023-03-20T16:17:26.616912Z"
    },
    "id": "dc2c5805",
    "outputId": "30382c0d-6c4b-4451-c024-cf250692b947"
   },
   "outputs": [],
   "source": [
    "df = pd.read_csv('../data/processed/data.csv')\n",
    "\n",
    "#mapping length of service columns for binary classification\n",
    "df['class'] = np.where(df['length of service in months']>26, 1, 0)\n",
    "\n",
    "carers = df[(df['Current Employee [1=YES / 0=No]'] == 0) & (df['Job Title'] == 0)]\n",
    "\n",
    "X= carers.drop(['Unnamed: 0.1.1', 'Unnamed: 0.1', 'Unnamed: 0', 'Current Employee [1=YES / 0=No]',\n",
    "       'Job Title'], axis = 1)\n",
    "\n",
    "y = carers['class']\n",
    "\n",
    "feat, pvals, selected= comparison(['health_exp'], [var for var in X.columns if var not in ['health_exp']], [X[X['class'] == 0],X[X['class'] == 1]])"
   ]
  },
  {
   "cell_type": "code",
   "execution_count": null,
   "id": "f87d7f2b",
   "metadata": {
    "ExecuteTime": {
     "end_time": "2023-03-20T16:17:27.071825Z",
     "start_time": "2023-03-20T16:17:27.040585Z"
    },
    "id": "f87d7f2b"
   },
   "outputs": [],
   "source": [
    "#checking if modified columns are there or not\n",
    "\n",
    "if 'health_exp' not in selected[0]:\n",
    "    selected[0].append('health_exp')\n",
    "if 'Advertised Salary' not in selected[0]:\n",
    "    selected[0].append('Advertised Salary')\n",
    "    \n",
    "X = X[selected[0]]\n",
    "\n",
    "X = X.drop(['class','length of service in months','candidateid'], axis = 1)"
   ]
  },
  {
   "cell_type": "markdown",
   "id": "bd01bb20",
   "metadata": {
    "id": "bd01bb20"
   },
   "source": [
    "## LR"
   ]
  },
  {
   "cell_type": "code",
   "execution_count": null,
   "id": "75f2331a",
   "metadata": {
    "ExecuteTime": {
     "end_time": "2023-03-20T16:19:32.933556Z",
     "start_time": "2023-03-20T16:19:32.902306Z"
    },
    "id": "75f2331a"
   },
   "outputs": [],
   "source": [
    "import winsound"
   ]
  },
  {
   "cell_type": "code",
   "execution_count": null,
   "id": "420fa72c",
   "metadata": {
    "ExecuteTime": {
     "end_time": "2023-03-20T16:30:11.922928Z",
     "start_time": "2023-03-20T16:19:33.152325Z"
    },
    "colab": {
     "referenced_widgets": [
      "06a9e3d63f0442f89667815e486ac6f1",
      "dd6193f170084dc6804ba45c38ee8df6",
      "49d9c1f7cb3b49d39c692ed72aa99981",
      "c5a11d312b964b6d968c01c845989093",
      "bb66852ac5ca442ab96f22a0953d5220"
     ]
    },
    "id": "420fa72c",
    "outputId": "940257f8-2457-49c3-ad7a-ac9d3b5aa6b4"
   },
   "outputs": [],
   "source": [
    "classif = 'lr'\n",
    "validation_results(X, y, classif, shap_plot = True, ale_plot = True, shap_samples = 100, job = 'carers')"
   ]
  },
  {
   "cell_type": "code",
   "execution_count": null,
   "id": "4d7d7d14",
   "metadata": {
    "id": "4d7d7d14"
   },
   "outputs": [],
   "source": [
    "winsound.Beep(500, 1000)"
   ]
  },
  {
   "cell_type": "code",
   "execution_count": null,
   "id": "cc5f22dc",
   "metadata": {
    "ExecuteTime": {
     "end_time": "2023-03-20T16:18:35.248154Z",
     "start_time": "2023-03-20T16:18:35.248154Z"
    },
    "id": "cc5f22dc"
   },
   "outputs": [],
   "source": [
    "#getting training and testing scores\n",
    "\n",
    "df_metrics = pd.read_excel(\"../data/processed/metrics_carers.xlsx\")\n",
    "dfmet = df_metrics[['accuracy_test','roc_test', 'precision_test', 'recall_test','f1']][df_metrics['Classifier']=='lr']\n",
    "print(dfmet.mean(axis=0))"
   ]
  },
  {
   "cell_type": "code",
   "execution_count": null,
   "id": "9228aaa7",
   "metadata": {
    "ExecuteTime": {
     "end_time": "2023-03-19T10:03:40.209401Z",
     "start_time": "2023-03-19T10:03:38.663167Z"
    },
    "id": "9228aaa7"
   },
   "outputs": [],
   "source": [
    "study_conf('carers','lr')"
   ]
  },
  {
   "cell_type": "markdown",
   "id": "147f5431",
   "metadata": {
    "id": "147f5431"
   },
   "source": [
    "## KNN"
   ]
  },
  {
   "cell_type": "code",
   "execution_count": null,
   "id": "daead572",
   "metadata": {
    "ExecuteTime": {
     "end_time": "2023-03-20T21:33:28.548750Z",
     "start_time": "2023-03-20T16:30:12.033946Z"
    },
    "colab": {
     "referenced_widgets": [
      "938ce01fb70941228b0d704754cbb41e",
      "bc67c863d05f48e69ceba0d0ca311e9c",
      "fbc466a149f04b4d87e08d593fa3ef0d",
      "f544f9e9f5f64747832fbcf8106a5236",
      "9fd94dcfa5e0488ea7102d007d15bb12"
     ]
    },
    "id": "daead572",
    "outputId": "670179bd-631e-4744-9352-40d4fae0b7bb",
    "scrolled": true
   },
   "outputs": [],
   "source": [
    "classif = 'knn'\n",
    "validation_results(X, y, classif, shap_plot = True, ale_plot = True, shap_samples = 100, job = 'carers')"
   ]
  },
  {
   "cell_type": "code",
   "execution_count": null,
   "id": "5956e947",
   "metadata": {
    "ExecuteTime": {
     "end_time": "2023-03-20T21:33:29.798016Z",
     "start_time": "2023-03-20T21:33:28.768932Z"
    },
    "id": "5956e947"
   },
   "outputs": [],
   "source": [
    "winsound.Beep(500, 1000)"
   ]
  },
  {
   "cell_type": "code",
   "execution_count": null,
   "id": "fb833bdf",
   "metadata": {
    "ExecuteTime": {
     "end_time": "2023-03-19T10:58:33.891506Z",
     "start_time": "2023-03-19T10:58:33.827811Z"
    },
    "id": "fb833bdf"
   },
   "outputs": [],
   "source": [
    "df_metrics = pd.read_excel(\"../data/processed/metrics_carers.xlsx\")\n",
    "dfmet = df_metrics[['accuracy_test','roc_test', 'precision_test', 'recall_test','f1']][df_metrics['Classifier']=='knn']\n",
    "print(dfmet.mean(axis=0))"
   ]
  },
  {
   "cell_type": "code",
   "execution_count": null,
   "id": "6524abce",
   "metadata": {
    "ExecuteTime": {
     "end_time": "2023-03-19T10:32:53.667158Z",
     "start_time": "2023-03-19T10:32:52.879597Z"
    },
    "id": "6524abce"
   },
   "outputs": [],
   "source": [
    "study_conf('carers','knn')"
   ]
  },
  {
   "cell_type": "markdown",
   "id": "9153f3b5",
   "metadata": {
    "id": "9153f3b5"
   },
   "source": [
    "## RF"
   ]
  },
  {
   "cell_type": "code",
   "execution_count": null,
   "id": "011215f6",
   "metadata": {
    "ExecuteTime": {
     "end_time": "2023-03-20T22:23:20.005695Z",
     "start_time": "2023-03-20T21:34:20.919056Z"
    },
    "colab": {
     "referenced_widgets": [
      "5e9c2ea856114040b5dcd7abf828a8d7",
      "34192450073a4cdb9d9486e710bed7d8",
      "9fbc8d1f1a414a8b90c83790ac0dc90d",
      "a1d2efc7338a4accbdb129c14817cc21",
      "be4fb564977a4a7b8c9335171c41c85c"
     ]
    },
    "id": "011215f6",
    "outputId": "9a91cdbc-0fe3-49ce-dc6b-60df9ffef9ac"
   },
   "outputs": [],
   "source": [
    "classif = 'rf'\n",
    "validation_results(X, y, classif, shap_plot = True, ale_plot = True, shap_samples = 100, job = 'carers')"
   ]
  },
  {
   "cell_type": "code",
   "execution_count": null,
   "id": "c3bb20e6",
   "metadata": {
    "ExecuteTime": {
     "end_time": "2023-03-20T21:34:17.759120Z",
     "start_time": "2023-03-20T21:34:17.759120Z"
    },
    "id": "c3bb20e6"
   },
   "outputs": [],
   "source": [
    "winsound.Beep(500, 1000)"
   ]
  },
  {
   "cell_type": "code",
   "execution_count": null,
   "id": "d33c9380",
   "metadata": {
    "ExecuteTime": {
     "end_time": "2023-03-19T10:53:01.236374Z",
     "start_time": "2023-03-19T10:53:01.172250Z"
    },
    "id": "d33c9380"
   },
   "outputs": [],
   "source": [
    "df_metrics = pd.read_excel(\"../data/processed/metrics_carers.xlsx\")\n",
    "dfmet = df_metrics[['accuracy_test','roc_test', 'precision_test', 'recall_test','f1']][df_metrics['Classifier']=='rf']\n",
    "print(dfmet.mean(axis=0))"
   ]
  },
  {
   "cell_type": "code",
   "execution_count": null,
   "id": "f00b8dd3",
   "metadata": {
    "ExecuteTime": {
     "end_time": "2023-03-19T10:52:31.978919Z",
     "start_time": "2023-03-19T10:52:31.176849Z"
    },
    "id": "f00b8dd3"
   },
   "outputs": [],
   "source": [
    "study_conf('carers','rf')"
   ]
  },
  {
   "cell_type": "markdown",
   "id": "d22bed47",
   "metadata": {
    "id": "d22bed47"
   },
   "source": [
    "\n",
    "\n",
    "<div class=\"alert alert-block alert-success\">\n",
    "    \n",
    "# NURSES\n",
    "</div>"
   ]
  },
  {
   "cell_type": "code",
   "execution_count": null,
   "id": "74b80019",
   "metadata": {
    "ExecuteTime": {
     "end_time": "2023-03-20T22:23:20.458708Z",
     "start_time": "2023-03-20T22:23:20.233542Z"
    },
    "id": "74b80019",
    "outputId": "c2b2b592-1ff1-4860-f706-3e2aa6365af6"
   },
   "outputs": [],
   "source": [
    "df = pd.read_csv('../data/processed/data.csv')\n",
    "\n",
    "#mapping length of service columns for binary classification\n",
    "df['class'] = np.where(df['length of service in months']>26, 1, 0)\n",
    "\n",
    "carers = df[(df['Current Employee [1=YES / 0=No]'] == 0) & (df['Job Title'] == 1)]\n",
    "\n",
    "X= carers.drop(['Unnamed: 0.3', 'Unnamed: 0.2', 'Unnamed: 0.1', 'Unnamed: 0', 'Current Employee [1=YES / 0=No]',\n",
    "       'Job Title','candidateid'], axis = 1)\n",
    "\n",
    "y = carers['class']\n",
    "\n",
    "feat, pvals, selected= comparison(['health_exp'], [var for var in X.columns if var not in ['health_exp']], [X[X['class'] == 0],X[X['class'] == 1]])\n",
    "\n",
    "if 'health_exp' not in selected[0]:\n",
    "    selected[0].append('health_exp')\n",
    "if 'Advertised Salary' not in selected[0]:\n",
    "    selected[0].append('Advertised Salary')\n",
    "    \n",
    "X = X[selected[0]]\n",
    "\n",
    "X = X.drop(['class','length of service in months'], axis = 1)"
   ]
  },
  {
   "cell_type": "code",
   "execution_count": null,
   "id": "6d7ab716",
   "metadata": {
    "ExecuteTime": {
     "end_time": "2023-03-20T15:31:02.532181Z",
     "start_time": "2023-03-20T15:31:02.285193Z"
    },
    "id": "6d7ab716",
    "outputId": "650b69ba-8187-4c0e-a930-218da94c6d62"
   },
   "outputs": [],
   "source": [
    "y.hist()"
   ]
  },
  {
   "cell_type": "markdown",
   "id": "ef4e8f02",
   "metadata": {
    "id": "ef4e8f02"
   },
   "source": [
    "## LR"
   ]
  },
  {
   "cell_type": "code",
   "execution_count": null,
   "id": "cca6befb",
   "metadata": {
    "ExecuteTime": {
     "end_time": "2023-03-20T22:46:54.706017Z",
     "start_time": "2023-03-20T22:23:20.628331Z"
    },
    "colab": {
     "referenced_widgets": [
      "33e0ae88945f404f8fc079dc0c034c39",
      "dfff8584ba114a468f702a36be049f3d",
      "47e1ed4571114bdb92ab528517458ad1",
      "01c5c3c24f5840d8bd76457aed231fe4",
      "fbee1be0288e4030af1625e43e6eeba6"
     ]
    },
    "id": "cca6befb",
    "outputId": "c9d8f289-ce83-484f-a857-b5120a73efec"
   },
   "outputs": [],
   "source": [
    "classif = 'lr'\n",
    "validation_results(X, y, classif, shap_plot = True, ale_plot = True, shap_samples = 100, job = 'nurses')"
   ]
  },
  {
   "cell_type": "code",
   "execution_count": null,
   "id": "32de9f44",
   "metadata": {
    "ExecuteTime": {
     "end_time": "2023-03-20T21:34:17.800085Z",
     "start_time": "2023-03-20T21:34:17.800085Z"
    },
    "id": "32de9f44"
   },
   "outputs": [],
   "source": [
    "winsound.Beep(500, 1000)"
   ]
  },
  {
   "cell_type": "code",
   "execution_count": null,
   "id": "f8bd9e57",
   "metadata": {
    "ExecuteTime": {
     "end_time": "2023-03-18T13:10:23.193163Z",
     "start_time": "2023-03-18T13:09:43.650145Z"
    },
    "id": "f8bd9e57"
   },
   "outputs": [],
   "source": [
    "#getting training and testing scores\n",
    "\n",
    "df_metrics = pd.read_excel(\"../data/processed/metrics_nurses.xlsx\")\n",
    "dfmet = df_metrics[['accuracy_test','roc_test', 'precision_test', 'recall_test','f1']][df_metrics['Classifier']=='lr']\n",
    "print(dfmet.mean(axis=0))"
   ]
  },
  {
   "cell_type": "code",
   "execution_count": null,
   "id": "18d3a714",
   "metadata": {
    "ExecuteTime": {
     "end_time": "2023-03-18T13:10:23.193163Z",
     "start_time": "2023-03-18T13:09:43.650145Z"
    },
    "id": "18d3a714"
   },
   "outputs": [],
   "source": [
    "study_conf('nurses','lr')"
   ]
  },
  {
   "cell_type": "markdown",
   "id": "288a7805",
   "metadata": {
    "id": "288a7805"
   },
   "source": [
    "## KNN"
   ]
  },
  {
   "cell_type": "code",
   "execution_count": null,
   "id": "c30a6887",
   "metadata": {
    "ExecuteTime": {
     "end_time": "2023-03-21T01:01:16.540865Z",
     "start_time": "2023-03-20T22:46:54.874599Z"
    },
    "colab": {
     "referenced_widgets": [
      "386a84f225ae4f098f7c5edc08e16b02",
      "cdab4044fb594e298525a0e5a66066bf",
      "e6f37b8f1c614362b40bd29f06312281",
      "45e62cf9e7484450bad19e5b07d44566",
      "737b7b1305b140769f12e6469c84d791"
     ]
    },
    "id": "c30a6887",
    "outputId": "94a40255-92b4-47d8-ff16-99f2dd21cfb1"
   },
   "outputs": [],
   "source": [
    "classif = 'knn'\n",
    "validation_results(X, y, classif, shap_plot = True, ale_plot = True, shap_samples = 100, job = 'nurses')"
   ]
  },
  {
   "cell_type": "code",
   "execution_count": null,
   "id": "d27e585c",
   "metadata": {
    "ExecuteTime": {
     "end_time": "2023-03-20T21:34:17.827084Z",
     "start_time": "2023-03-20T21:34:17.827084Z"
    },
    "id": "d27e585c"
   },
   "outputs": [],
   "source": [
    "winsound.Beep(500, 1000)"
   ]
  },
  {
   "cell_type": "code",
   "execution_count": null,
   "id": "eedc5314",
   "metadata": {
    "id": "eedc5314"
   },
   "outputs": [],
   "source": [
    "#getting training and testing scores\n",
    "\n",
    "df_metrics = pd.read_excel(\"../data/processed/metrics_nurses.xlsx\")\n",
    "dfmet = df_metrics[['accuracy_test','roc_test', 'precision_test', 'recall_test','f1']][df_metrics['Classifier']=='knn']\n",
    "print(dfmet.mean(axis=0))"
   ]
  },
  {
   "cell_type": "code",
   "execution_count": null,
   "id": "a2ae4cb3",
   "metadata": {
    "id": "a2ae4cb3"
   },
   "outputs": [],
   "source": [
    "study_conf('nurses','knn')"
   ]
  },
  {
   "cell_type": "markdown",
   "id": "c318fef9",
   "metadata": {
    "id": "c318fef9"
   },
   "source": [
    "## RF"
   ]
  },
  {
   "cell_type": "code",
   "execution_count": null,
   "id": "707cc383",
   "metadata": {
    "ExecuteTime": {
     "end_time": "2023-03-21T01:17:33.828474Z",
     "start_time": "2023-03-21T01:01:16.676671Z"
    },
    "colab": {
     "referenced_widgets": [
      "2f3c0f08b6d24681810521a361858491",
      "5ad1382016cc46bab00d93fdae468c24",
      "3a62d5211a6849cba908ac7fe7cae7d3",
      "63d1f0a2e3fe4a409661895b150d9f33",
      "a834df17079f44609180f28cf156e594"
     ]
    },
    "id": "707cc383",
    "outputId": "0fee6017-7c38-4d19-d099-1f3a308df2be"
   },
   "outputs": [],
   "source": [
    "classif = 'rf'\n",
    "validation_results(X, y, classif, shap_plot = True, ale_plot = True, shap_samples = 100, job = 'nurses')"
   ]
  },
  {
   "cell_type": "code",
   "execution_count": null,
   "id": "dd3c889f",
   "metadata": {
    "ExecuteTime": {
     "end_time": "2023-03-20T21:34:17.850066Z",
     "start_time": "2023-03-20T21:34:17.850066Z"
    },
    "id": "dd3c889f"
   },
   "outputs": [],
   "source": [
    "winsound.Beep(500, 1000)"
   ]
  },
  {
   "cell_type": "code",
   "execution_count": null,
   "id": "4729b6a9",
   "metadata": {
    "id": "4729b6a9"
   },
   "outputs": [],
   "source": [
    "#getting training and testing scores\n",
    "\n",
    "df_metrics = pd.read_excel(\"../data/processed/metrics_nurses.xlsx\")\n",
    "dfmet = df_metrics[['accuracy_test','roc_test', 'precision_test', 'recall_test','f1']][df_metrics['Classifier']=='rf']\n",
    "print(dfmet.mean(axis=0))"
   ]
  },
  {
   "cell_type": "code",
   "execution_count": null,
   "id": "b33bd8db",
   "metadata": {
    "id": "b33bd8db"
   },
   "outputs": [],
   "source": [
    "study_conf('nurses','rf')"
   ]
  },
  {
   "cell_type": "markdown",
   "id": "a41a11fc",
   "metadata": {
    "id": "a41a11fc"
   },
   "source": [
    "\n",
    "\n",
    "<div class=\"alert alert-block alert-success\">\n",
    "    \n",
    "# SENIOR CARERS\n",
    "</div>"
   ]
  },
  {
   "cell_type": "code",
   "execution_count": null,
   "id": "128c8f3b",
   "metadata": {
    "ExecuteTime": {
     "end_time": "2023-03-21T01:17:34.065745Z",
     "start_time": "2023-03-21T01:17:33.933610Z"
    },
    "id": "128c8f3b",
    "outputId": "ec92e58c-94ce-456c-f4c8-aff76ae315e8"
   },
   "outputs": [],
   "source": [
    "df = pd.read_csv('../data/processed/data.csv')\n",
    "\n",
    "#mapping length of service columns for binary classification\n",
    "df['class'] = np.where(df['length of service in months']>26, 1, 0)\n",
    "\n",
    "carers = df[(df['Current Employee [1=YES / 0=No]'] == 0) & (df['Job Title'] == 2)]\n",
    "\n",
    "X= carers.drop(['Unnamed: 0.3', 'Unnamed: 0.2', 'Unnamed: 0.1', 'Unnamed: 0', 'Current Employee [1=YES / 0=No]',\n",
    "       'Job Title','candidateid'], axis = 1)\n",
    "\n",
    "y = carers['class']\n",
    "\n",
    "feat, pvals, selected= comparison(['health_exp'], [var for var in X.columns if var not in ['health_exp']], [X[X['class'] == 0],X[X['class'] == 1]])\n",
    "\n",
    "if 'health_exp' not in selected[0]:\n",
    "    selected[0].append('health_exp')\n",
    "if 'Advertised Salary' not in selected[0]:\n",
    "    selected[0].append('Advertised Salary')\n",
    "    \n",
    "X = X[selected[0]]\n",
    "\n",
    "X = X.drop(['class','length of service in months'], axis = 1)"
   ]
  },
  {
   "cell_type": "code",
   "execution_count": null,
   "id": "e663bdc0",
   "metadata": {
    "ExecuteTime": {
     "end_time": "2023-03-20T13:05:31.122327Z",
     "start_time": "2023-03-20T13:05:30.664107Z"
    },
    "id": "e663bdc0"
   },
   "outputs": [],
   "source": [
    "y.hist()"
   ]
  },
  {
   "cell_type": "markdown",
   "id": "c881e401",
   "metadata": {
    "id": "c881e401"
   },
   "source": [
    "## LR"
   ]
  },
  {
   "cell_type": "code",
   "execution_count": null,
   "id": "0f5bfd77",
   "metadata": {
    "ExecuteTime": {
     "end_time": "2023-03-21T01:23:06.809837Z",
     "start_time": "2023-03-21T01:17:34.183631Z"
    },
    "colab": {
     "referenced_widgets": [
      "59257805ef89481fb6640d108d423aef",
      "ac5714ffde7d4ffab05530a8d2af78a8",
      "adfbc3cf087a4f76a3b760db3dd4883c",
      "0eb43d8238c646158970993f4d23f520",
      "ba91107832c04d8d9b061536e0ed6bc7"
     ]
    },
    "id": "0f5bfd77",
    "outputId": "789025e1-fc40-453e-a0c6-c0785f646a25"
   },
   "outputs": [],
   "source": [
    "classif = 'lr'\n",
    "validation_results(X, y, classif, shap_plot = True, ale_plot = True, shap_samples = 100, job = 'seniors')"
   ]
  },
  {
   "cell_type": "code",
   "execution_count": null,
   "id": "976140c1",
   "metadata": {
    "ExecuteTime": {
     "end_time": "2023-03-20T13:18:14.196522Z",
     "start_time": "2023-03-20T13:18:14.155614Z"
    },
    "id": "976140c1"
   },
   "outputs": [],
   "source": [
    "#getting training and testing scores\n",
    "\n",
    "df_metrics = pd.read_excel(\"../data/processed/metrics_seniors.xlsx\")\n",
    "dfmet = df_metrics[['accuracy_test','roc_test', 'precision_test', 'recall_test','f1']][df_metrics['Classifier']=='lr']\n",
    "print(dfmet.mean(axis=0))"
   ]
  },
  {
   "cell_type": "code",
   "execution_count": null,
   "id": "c4d213e1",
   "metadata": {
    "ExecuteTime": {
     "end_time": "2023-03-20T13:19:15.074454Z",
     "start_time": "2023-03-20T13:19:14.980395Z"
    },
    "id": "c4d213e1"
   },
   "outputs": [],
   "source": [
    "study_conf('seniors','lr')"
   ]
  },
  {
   "cell_type": "markdown",
   "id": "cb4aa789",
   "metadata": {
    "id": "cb4aa789"
   },
   "source": [
    "## KNN"
   ]
  },
  {
   "cell_type": "code",
   "execution_count": null,
   "id": "0deb8443",
   "metadata": {
    "ExecuteTime": {
     "end_time": "2023-03-21T01:56:16.306352Z",
     "start_time": "2023-03-21T01:23:06.911309Z"
    },
    "colab": {
     "referenced_widgets": [
      "ecf6cbc6de7a465b808c513fbf426574",
      "5f65c7e6dadf4371a90de89d23441d03",
      "14f2be9abe1449b6bc956340b5a60f3d",
      "bc45048d869640bcb46e2f32f64fecd2",
      "3134c006e7e3437a9bb20179e4e65547"
     ]
    },
    "id": "0deb8443",
    "outputId": "1b8cc74f-52c4-4657-a332-0bd01760c28b"
   },
   "outputs": [],
   "source": [
    "classif = 'knn'\n",
    "validation_results(X, y, classif, shap_plot = True, ale_plot = True, shap_samples = 100, job = 'seniors')"
   ]
  },
  {
   "cell_type": "code",
   "execution_count": null,
   "id": "4e455b55",
   "metadata": {
    "id": "4e455b55"
   },
   "outputs": [],
   "source": [
    "#getting training and testing scores\n",
    "\n",
    "df_metrics = pd.read_excel(\"../data/processed/metrics_seniors.xlsx\")\n",
    "dfmet = df_metrics[['accuracy_test','roc_test', 'precision_test', 'recall_test','f1']][df_metrics['Classifier']=='knn']\n",
    "print(dfmet.mean(axis=0))\n",
    "study_conf('seniors','knn')"
   ]
  },
  {
   "cell_type": "markdown",
   "id": "d3cfcec2",
   "metadata": {
    "id": "d3cfcec2"
   },
   "source": [
    "## RF"
   ]
  },
  {
   "cell_type": "code",
   "execution_count": null,
   "id": "355e62d0",
   "metadata": {
    "ExecuteTime": {
     "end_time": "2023-03-21T02:07:05.157552Z",
     "start_time": "2023-03-21T01:56:16.417432Z"
    },
    "colab": {
     "referenced_widgets": [
      "88655f9f2e7247a58e8608ad25dd63e3",
      "1493c65cabd74a488425986ab42f6124",
      "ec59849418af4188b01b46bfdb3f9eb6",
      "e7064ad8cf2c40589f635abff8bf48d3",
      "b9a65580c24c45388407d001654808b7"
     ]
    },
    "id": "355e62d0",
    "outputId": "917b4f5f-91fe-45a5-c8b1-8a5afe376946"
   },
   "outputs": [],
   "source": [
    "classif = 'rf'\n",
    "validation_results(X, y, classif, shap_plot = True, ale_plot = True, shap_samples = 100, job = 'seniors')"
   ]
  },
  {
   "cell_type": "code",
   "execution_count": null,
   "id": "17573eca",
   "metadata": {
    "ExecuteTime": {
     "end_time": "2023-03-20T14:30:20.845600Z",
     "start_time": "2023-03-20T14:30:20.803566Z"
    },
    "id": "17573eca"
   },
   "outputs": [],
   "source": [
    "#getting training and testing scores\n",
    "\n",
    "df_metrics = pd.read_excel(\"../data/processed/metrics_seniors.xlsx\")\n",
    "dfmet = df_metrics[['accuracy_test','roc_test', 'precision_test', 'recall_test','f1']][df_metrics['Classifier']=='rf']\n",
    "print(dfmet.mean(axis=0))"
   ]
  },
  {
   "cell_type": "code",
   "execution_count": null,
   "id": "bfdb54a6",
   "metadata": {
    "ExecuteTime": {
     "end_time": "2023-03-20T14:30:06.489689Z",
     "start_time": "2023-03-20T14:30:06.260533Z"
    },
    "id": "bfdb54a6"
   },
   "outputs": [],
   "source": [
    "study_conf('seniors','rf')"
   ]
  }
 ],
 "metadata": {
  "colab": {
   "provenance": [],
   "toc_visible": true
  },
  "hide_input": false,
  "kernelspec": {
   "display_name": "Python 3 (ipykernel)",
   "language": "python",
   "name": "python3"
  },
  "language_info": {
   "codemirror_mode": {
    "name": "ipython",
    "version": 3
   },
   "file_extension": ".py",
   "mimetype": "text/x-python",
   "name": "python",
   "nbconvert_exporter": "python",
   "pygments_lexer": "ipython3",
   "version": "3.9.13"
  },
  "toc": {
   "base_numbering": 1,
   "nav_menu": {},
   "number_sections": true,
   "sideBar": true,
   "skip_h1_title": false,
   "title_cell": "Table of Contents",
   "title_sidebar": "Contents",
   "toc_cell": false,
   "toc_position": {},
   "toc_section_display": true,
   "toc_window_display": false
  },
  "varInspector": {
   "cols": {
    "lenName": 16,
    "lenType": 16,
    "lenVar": 40
   },
   "kernels_config": {
    "python": {
     "delete_cmd_postfix": "",
     "delete_cmd_prefix": "del ",
     "library": "var_list.py",
     "varRefreshCmd": "print(var_dic_list())"
    },
    "r": {
     "delete_cmd_postfix": ") ",
     "delete_cmd_prefix": "rm(",
     "library": "var_list.r",
     "varRefreshCmd": "cat(var_dic_list()) "
    }
   },
   "types_to_exclude": [
    "module",
    "function",
    "builtin_function_or_method",
    "instance",
    "_Feature"
   ],
   "window_display": false
  }
 },
 "nbformat": 4,
 "nbformat_minor": 5
}
